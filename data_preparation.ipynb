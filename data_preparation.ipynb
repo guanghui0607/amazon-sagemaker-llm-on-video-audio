{
 "cells": [
  {
   "cell_type": "markdown",
   "id": "cfd8d0c0-2c2d-4751-8f5d-999d79ae6108",
   "metadata": {},
   "source": [
    "## Convert video to text with Speech-to-text model and sentence embedding model\n",
    "\n",
    "In this notebook, we will extract information from video/audio files with [Whipser model](https://github.com/openai/whisper). Be leveraging multilingual support, we can extract tanscripts from videos files mixed different languages, even for one video file with different languanges. We provide the following options for whisper inference:\n",
    "- Batch inference with SageMaker Processing job, we can process massive data and store them into vector database for RAG solution.\n",
    "- Real-time inference with SageMaker Endpoint, we can leverage it to do summarizaton or QA with a short video/audio file (less than 6MB)."
   ]
  },
  {
   "cell_type": "code",
   "execution_count": null,
   "id": "94a02764-403f-4c35-9754-e99e2a8d5b58",
   "metadata": {
    "tags": []
   },
   "outputs": [],
   "source": [
    "!pip install -U sagemaker -q"
   ]
  },
  {
   "cell_type": "markdown",
   "id": "38922488-e64f-45e2-983a-5c176f4e13ab",
   "metadata": {},
   "source": [
    "## Set up"
   ]
  },
  {
   "cell_type": "code",
   "execution_count": 1,
   "id": "3c209ddd-7a9a-4c7c-b582-6729ce88a4d9",
   "metadata": {
    "tags": []
   },
   "outputs": [
    {
     "name": "stdout",
     "output_type": "stream",
     "text": [
      "sagemaker.config INFO - Not applying SDK defaults from location: /etc/xdg/sagemaker/config.yaml\n",
      "sagemaker.config INFO - Not applying SDK defaults from location: /home/ec2-user/.config/sagemaker/config.yaml\n"
     ]
    }
   ],
   "source": [
    "from sagemaker.huggingface import HuggingFaceProcessor\n",
    "from sagemaker import get_execution_role\n",
    "from sagemaker.processing import ProcessingInput, ProcessingOutput\n",
    "from sagemaker.huggingface import HuggingFaceModel\n",
    "import sagemaker\n",
    "import boto3\n",
    "import json\n",
    "\n",
    "try:\n",
    "    role = sagemaker.get_execution_role()\n",
    "except ValueError:\n",
    "    iam = boto3.client('iam')\n",
    "    role = iam.get_role(RoleName='sagemaker_execution_role')['Role']['Arn']\n",
    "\n",
    "sess = sagemaker.session.Session()\n",
    "bucket = sess.default_bucket()\n",
    "prefix = \"sagemaker/rag_video\"\n",
    "folder_name = \"genai_workshop\"\n",
    "s3_input = f\"s3://{bucket}/{prefix}/raw_data/{folder_name}\" # Directory for video files\n",
    "s3_output_clips = f\"s3://{bucket}/{prefix}/clips\" # Directory for video clips\n",
    "s3_output_transcript = f\"s3://{bucket}/{prefix}/transcript\" # Directory for transcripts"
   ]
  },
  {
   "cell_type": "code",
   "execution_count": 2,
   "id": "7600cddd-9a23-4ab1-abf6-6cedd8b7fa55",
   "metadata": {
    "tags": []
   },
   "outputs": [
    {
     "name": "stdout",
     "output_type": "stream",
     "text": [
      "Stored 's3_output_transcript' (str)\n"
     ]
    }
   ],
   "source": [
    "%store s3_output_transcript"
   ]
  },
  {
   "cell_type": "markdown",
   "id": "5892e7ff-edfe-4112-9ccd-bc34b2fc1bde",
   "metadata": {},
   "source": [
    "## Upload test data to S3 bucket\n",
    "\n",
    "Download data from YouTube."
   ]
  },
  {
   "cell_type": "code",
   "execution_count": 3,
   "id": "388a7d5d-eeaa-48bd-9b5b-9a352489cc89",
   "metadata": {
    "tags": []
   },
   "outputs": [
    {
     "name": "stdout",
     "output_type": "stream",
     "text": [
      "Requirement already satisfied: pytube in /home/ec2-user/anaconda3/envs/pytorch_p310/lib/python3.10/site-packages (15.0.0)\n"
     ]
    }
   ],
   "source": [
    "# Download data from YouTube\n",
    "!pip install pytube"
   ]
  },
  {
   "cell_type": "code",
   "execution_count": 4,
   "id": "d5eee50a-9c66-456b-879f-98a09d85d87e",
   "metadata": {
    "tags": []
   },
   "outputs": [],
   "source": [
    "from pytube import YouTube\n",
    "\n",
    "VIDEO_SAVE_DIRECTORY = \"./videos\"\n",
    "AUDIO_SAVE_DIRECTORY = \"./audio\"\n",
    "video_name = \"genai_interview.mp4\"\n",
    "def download(video_url):\n",
    "    video = YouTube(video_url)\n",
    "    video = video.streams.get_highest_resolution()\n",
    "\n",
    "    try:\n",
    "        video.download(VIDEO_SAVE_DIRECTORY, filename=video_name)\n",
    "    except:\n",
    "        print(\"Failed to download video\")\n",
    "\n",
    "    print(\"video was downloaded successfully\")\n",
    "    \n",
    "def download_audio(video_url):\n",
    "    video = YouTube(video_url)\n",
    "    audio = video.streams.filter(only_audio = True).first()\n",
    "\n",
    "    try:\n",
    "        audio.download(AUDIO_SAVE_DIRECTORY)\n",
    "    except:\n",
    "        print(\"Failed to download audio\")\n",
    "\n",
    "    print(\"audio was downloaded successfully\")"
   ]
  },
  {
   "cell_type": "code",
   "execution_count": 5,
   "id": "4888c5f4-52a0-4b3d-95e5-0bd0cca84af5",
   "metadata": {
    "tags": []
   },
   "outputs": [],
   "source": [
    "# JAWS-UG AI/ML (Japanese) #16 Generative AI: https://www.youtube.com/watch?v=PkZenNAXtYs\n",
    "# New York Summit 2023 AIML: https://www.youtube.com/watch?v=1PkABWCJINM Totally 36mins"
   ]
  },
  {
   "cell_type": "code",
   "execution_count": 6,
   "id": "b8e6fe10-3eed-4578-b4ad-7b4e044f84a7",
   "metadata": {
    "tags": []
   },
   "outputs": [
    {
     "name": "stdout",
     "output_type": "stream",
     "text": [
      "video was downloaded successfully\n"
     ]
    }
   ],
   "source": [
    "download(\"https://www.youtube.com/watch?v=dBzCGcwYCJo\")"
   ]
  },
  {
   "cell_type": "code",
   "execution_count": 7,
   "id": "02daea10-0cbf-4f5d-b294-023f6d56b12f",
   "metadata": {
    "tags": []
   },
   "outputs": [
    {
     "name": "stdout",
     "output_type": "stream",
     "text": [
      "upload: videos/genai_interview.mp4 to s3://sagemaker-us-east-1-822507008821/sagemaker/rag_video/raw_data/genai_workshop/genai_interview.mp4\n"
     ]
    }
   ],
   "source": [
    "!aws s3 cp videos/{video_name} {s3_input}/"
   ]
  },
  {
   "cell_type": "markdown",
   "id": "7f00c2e3-c897-4a2c-a12e-b07c75ca5986",
   "metadata": {
    "tags": []
   },
   "source": [
    "## Batch inference with SageMaker Processing"
   ]
  },
  {
   "cell_type": "code",
   "execution_count": 8,
   "id": "2e002118-b7dc-4915-9fe0-f80e3bbfe847",
   "metadata": {
    "tags": []
   },
   "outputs": [],
   "source": [
    "hfp = HuggingFaceProcessor(\n",
    "    role=get_execution_role(), \n",
    "    instance_count=1,\n",
    "    instance_type='ml.p3.2xlarge',\n",
    "    transformers_version='4.28.1',\n",
    "    pytorch_version='2.0.0', \n",
    "    base_job_name='frameworkprocessor-hf',\n",
    "    py_version=\"py310\"\n",
    ")"
   ]
  },
  {
   "cell_type": "code",
   "execution_count": 9,
   "id": "90383250-179b-4499-8583-fdca5320ee75",
   "metadata": {
    "scrolled": true,
    "tags": []
   },
   "outputs": [
    {
     "name": "stderr",
     "output_type": "stream",
     "text": [
      "INFO:sagemaker:Creating processing-job with name frameworkprocessor-hf-2024-03-10-03-43-32-911\n"
     ]
    },
    {
     "name": "stdout",
     "output_type": "stream",
     "text": [
      ".........................................................\u001b[34mWARNING: Skipping typing as it is not installed.\u001b[0m\n",
      "\u001b[34mWARNING: Running pip as the 'root' user can result in broken permissions and conflicting behaviour with the system package manager. It is recommended to use a virtual environment instead: https://pip.pypa.io/warnings/venv\u001b[0m\n",
      "\u001b[34mCollecting git+https://github.com/openai/whisper.git (from -r requirements.txt (line 3))\n",
      "  Cloning https://github.com/openai/whisper.git to /tmp/pip-req-build-nc6px2l6\n",
      "  Running command git clone --filter=blob:none --quiet https://github.com/openai/whisper.git /tmp/pip-req-build-nc6px2l6\n",
      "  Resolved https://github.com/openai/whisper.git to commit ba3f3cd54b0e5b8ce1ab3de13e32122d0d5f98ab\n",
      "  Installing build dependencies: started\u001b[0m\n",
      "\u001b[34m  Installing build dependencies: finished with status 'done'\n",
      "  Getting requirements to build wheel: started\n",
      "  Getting requirements to build wheel: finished with status 'done'\n",
      "  Preparing metadata (pyproject.toml): started\n",
      "  Preparing metadata (pyproject.toml): finished with status 'done'\u001b[0m\n",
      "\u001b[34mCollecting tiktoken (from -r requirements.txt (line 1))\n",
      "  Downloading tiktoken-0.6.0-cp310-cp310-manylinux_2_17_x86_64.manylinux2014_x86_64.whl.metadata (6.6 kB)\u001b[0m\n",
      "\u001b[34mCollecting moviepy (from -r requirements.txt (line 2))\n",
      "  Downloading moviepy-1.0.3.tar.gz (388 kB)\n",
      "     ━━━━━━━━━━━━━━━━━━━━━━━━━━━━━━━━━━━━━━ 388.3/388.3 kB 18.3 MB/s eta 0:00:00\n",
      "  Preparing metadata (setup.py): started\u001b[0m\n",
      "\u001b[34m  Preparing metadata (setup.py): finished with status 'done'\u001b[0m\n",
      "\u001b[34mRequirement already satisfied: sagemaker in /opt/conda/lib/python3.10/site-packages (from -r requirements.txt (line 4)) (2.172.0)\u001b[0m\n",
      "\u001b[34mCollecting pydub (from -r requirements.txt (line 5))\n",
      "  Downloading pydub-0.25.1-py2.py3-none-any.whl.metadata (1.4 kB)\u001b[0m\n",
      "\u001b[34mCollecting sentence-transformers (from -r requirements.txt (line 6))\n",
      "  Downloading sentence_transformers-2.5.1-py3-none-any.whl.metadata (11 kB)\u001b[0m\n",
      "\u001b[34mRequirement already satisfied: regex>=2022.1.18 in /opt/conda/lib/python3.10/site-packages (from tiktoken->-r requirements.txt (line 1)) (2023.12.25)\u001b[0m\n",
      "\u001b[34mRequirement already satisfied: requests>=2.26.0 in /opt/conda/lib/python3.10/site-packages (from tiktoken->-r requirements.txt (line 1)) (2.31.0)\u001b[0m\n",
      "\u001b[34mCollecting decorator<5.0,>=4.0.2 (from moviepy->-r requirements.txt (line 2))\n",
      "  Downloading decorator-4.4.2-py2.py3-none-any.whl.metadata (4.2 kB)\u001b[0m\n",
      "\u001b[34mRequirement already satisfied: tqdm<5.0,>=4.11.2 in /opt/conda/lib/python3.10/site-packages (from moviepy->-r requirements.txt (line 2)) (4.65.0)\u001b[0m\n",
      "\u001b[34mCollecting proglog<=1.0.0 (from moviepy->-r requirements.txt (line 2))\n",
      "  Downloading proglog-0.1.10-py3-none-any.whl.metadata (639 bytes)\u001b[0m\n",
      "\u001b[34mRequirement already satisfied: numpy>=1.17.3 in /opt/conda/lib/python3.10/site-packages (from moviepy->-r requirements.txt (line 2)) (1.24.4)\u001b[0m\n",
      "\u001b[34mRequirement already satisfied: imageio<3.0,>=2.5 in /opt/conda/lib/python3.10/site-packages (from moviepy->-r requirements.txt (line 2)) (2.31.1)\u001b[0m\n",
      "\u001b[34mCollecting imageio_ffmpeg>=0.2.0 (from moviepy->-r requirements.txt (line 2))\n",
      "  Downloading imageio_ffmpeg-0.4.9-py3-none-manylinux2010_x86_64.whl.metadata (1.7 kB)\u001b[0m\n",
      "\u001b[34mRequirement already satisfied: numba in /opt/conda/lib/python3.10/site-packages (from openai-whisper==20231117->-r requirements.txt (line 3)) (0.57.1)\u001b[0m\n",
      "\u001b[34mRequirement already satisfied: torch in /opt/conda/lib/python3.10/site-packages (from openai-whisper==20231117->-r requirements.txt (line 3)) (2.0.0)\u001b[0m\n",
      "\u001b[34mCollecting more-itertools (from openai-whisper==20231117->-r requirements.txt (line 3))\n",
      "  Downloading more_itertools-10.2.0-py3-none-any.whl.metadata (34 kB)\u001b[0m\n",
      "\u001b[34mCollecting triton<3,>=2.0.0 (from openai-whisper==20231117->-r requirements.txt (line 3))\n",
      "  Downloading triton-2.2.0-cp310-cp310-manylinux_2_17_x86_64.manylinux2014_x86_64.whl.metadata (1.4 kB)\u001b[0m\n",
      "\u001b[34mRequirement already satisfied: attrs<24,>=23.1.0 in /opt/conda/lib/python3.10/site-packages (from sagemaker->-r requirements.txt (line 4)) (23.1.0)\u001b[0m\n",
      "\u001b[34mRequirement already satisfied: boto3<2.0,>=1.26.131 in /opt/conda/lib/python3.10/site-packages (from sagemaker->-r requirements.txt (line 4)) (1.34.34)\u001b[0m\n",
      "\u001b[34mRequirement already satisfied: cloudpickle==2.2.1 in /opt/conda/lib/python3.10/site-packages (from sagemaker->-r requirements.txt (line 4)) (2.2.1)\u001b[0m\n",
      "\u001b[34mRequirement already satisfied: google-pasta in /opt/conda/lib/python3.10/site-packages (from sagemaker->-r requirements.txt (line 4)) (0.2.0)\u001b[0m\n",
      "\u001b[34mRequirement already satisfied: protobuf<5.0,>=3.12 in /opt/conda/lib/python3.10/site-packages (from sagemaker->-r requirements.txt (line 4)) (3.20.2)\u001b[0m\n",
      "\u001b[34mRequirement already satisfied: smdebug-rulesconfig==1.0.1 in /opt/conda/lib/python3.10/site-packages (from sagemaker->-r requirements.txt (line 4)) (1.0.1)\u001b[0m\n",
      "\u001b[34mRequirement already satisfied: importlib-metadata<7.0,>=1.4.0 in /opt/conda/lib/python3.10/site-packages (from sagemaker->-r requirements.txt (line 4)) (6.8.0)\u001b[0m\n",
      "\u001b[34mRequirement already satisfied: packaging>=20.0 in /opt/conda/lib/python3.10/site-packages (from sagemaker->-r requirements.txt (line 4)) (23.1)\u001b[0m\n",
      "\u001b[34mRequirement already satisfied: pandas in /opt/conda/lib/python3.10/site-packages (from sagemaker->-r requirements.txt (line 4)) (2.0.3)\u001b[0m\n",
      "\u001b[34mRequirement already satisfied: pathos in /opt/conda/lib/python3.10/site-packages (from sagemaker->-r requirements.txt (line 4)) (0.3.0)\u001b[0m\n",
      "\u001b[34mRequirement already satisfied: schema in /opt/conda/lib/python3.10/site-packages (from sagemaker->-r requirements.txt (line 4)) (0.7.5)\u001b[0m\n",
      "\u001b[34mRequirement already satisfied: PyYAML~=6.0 in /opt/conda/lib/python3.10/site-packages (from sagemaker->-r requirements.txt (line 4)) (6.0)\u001b[0m\n",
      "\u001b[34mRequirement already satisfied: jsonschema in /opt/conda/lib/python3.10/site-packages (from sagemaker->-r requirements.txt (line 4)) (4.18.3)\u001b[0m\n",
      "\u001b[34mRequirement already satisfied: platformdirs in /opt/conda/lib/python3.10/site-packages (from sagemaker->-r requirements.txt (line 4)) (3.8.1)\u001b[0m\n",
      "\u001b[34mRequirement already satisfied: tblib==1.7.0 in /opt/conda/lib/python3.10/site-packages (from sagemaker->-r requirements.txt (line 4)) (1.7.0)\u001b[0m\n",
      "\u001b[34mCollecting transformers<5.0.0,>=4.32.0 (from sentence-transformers->-r requirements.txt (line 6))\n",
      "  Downloading transformers-4.38.2-py3-none-any.whl.metadata (130 kB)\n",
      "     ━━━━━━━━━━━━━━━━━━━━━━━━━━━━━━━━━━━━━━ 130.7/130.7 kB 14.7 MB/s eta 0:00:00\u001b[0m\n",
      "\u001b[34mRequirement already satisfied: scikit-learn in /opt/conda/lib/python3.10/site-packages (from sentence-transformers->-r requirements.txt (line 6)) (1.3.0)\u001b[0m\n",
      "\u001b[34mRequirement already satisfied: scipy in /opt/conda/lib/python3.10/site-packages (from sentence-transformers->-r requirements.txt (line 6)) (1.11.1)\u001b[0m\n",
      "\u001b[34mRequirement already satisfied: huggingface-hub>=0.15.1 in /opt/conda/lib/python3.10/site-packages (from sentence-transformers->-r requirements.txt (line 6)) (0.20.3)\u001b[0m\n",
      "\u001b[34mRequirement already satisfied: Pillow in /opt/conda/lib/python3.10/site-packages (from sentence-transformers->-r requirements.txt (line 6)) (10.0.0)\u001b[0m\n",
      "\u001b[34mRequirement already satisfied: botocore<1.35.0,>=1.34.34 in /opt/conda/lib/python3.10/site-packages (from boto3<2.0,>=1.26.131->sagemaker->-r requirements.txt (line 4)) (1.34.34)\u001b[0m\n",
      "\u001b[34mRequirement already satisfied: jmespath<2.0.0,>=0.7.1 in /opt/conda/lib/python3.10/site-packages (from boto3<2.0,>=1.26.131->sagemaker->-r requirements.txt (line 4)) (1.0.1)\u001b[0m\n",
      "\u001b[34mRequirement already satisfied: s3transfer<0.11.0,>=0.10.0 in /opt/conda/lib/python3.10/site-packages (from boto3<2.0,>=1.26.131->sagemaker->-r requirements.txt (line 4)) (0.10.0)\u001b[0m\n",
      "\u001b[34mRequirement already satisfied: filelock in /opt/conda/lib/python3.10/site-packages (from huggingface-hub>=0.15.1->sentence-transformers->-r requirements.txt (line 6)) (3.12.2)\u001b[0m\n",
      "\u001b[34mRequirement already satisfied: fsspec>=2023.5.0 in /opt/conda/lib/python3.10/site-packages (from huggingface-hub>=0.15.1->sentence-transformers->-r requirements.txt (line 6)) (2023.6.0)\u001b[0m\n",
      "\u001b[34mRequirement already satisfied: typing-extensions>=3.7.4.3 in /opt/conda/lib/python3.10/site-packages (from huggingface-hub>=0.15.1->sentence-transformers->-r requirements.txt (line 6)) (4.7.1)\u001b[0m\n",
      "\u001b[34mRequirement already satisfied: setuptools in /opt/conda/lib/python3.10/site-packages (from imageio_ffmpeg>=0.2.0->moviepy->-r requirements.txt (line 2)) (65.6.3)\u001b[0m\n",
      "\u001b[34mRequirement already satisfied: zipp>=0.5 in /opt/conda/lib/python3.10/site-packages (from importlib-metadata<7.0,>=1.4.0->sagemaker->-r requirements.txt (line 4)) (3.16.0)\u001b[0m\n",
      "\u001b[34mRequirement already satisfied: charset-normalizer<4,>=2 in /opt/conda/lib/python3.10/site-packages (from requests>=2.26.0->tiktoken->-r requirements.txt (line 1)) (3.1.0)\u001b[0m\n",
      "\u001b[34mRequirement already satisfied: idna<4,>=2.5 in /opt/conda/lib/python3.10/site-packages (from requests>=2.26.0->tiktoken->-r requirements.txt (line 1)) (3.4)\u001b[0m\n",
      "\u001b[34mRequirement already satisfied: urllib3<3,>=1.21.1 in /opt/conda/lib/python3.10/site-packages (from requests>=2.26.0->tiktoken->-r requirements.txt (line 1)) (1.26.15)\u001b[0m\n",
      "\u001b[34mRequirement already satisfied: certifi>=2017.4.17 in /opt/conda/lib/python3.10/site-packages (from requests>=2.26.0->tiktoken->-r requirements.txt (line 1)) (2024.2.2)\u001b[0m\n",
      "\u001b[34mRequirement already satisfied: sympy in /opt/conda/lib/python3.10/site-packages (from torch->openai-whisper==20231117->-r requirements.txt (line 3)) (1.12)\u001b[0m\n",
      "\u001b[34mRequirement already satisfied: networkx in /opt/conda/lib/python3.10/site-packages (from torch->openai-whisper==20231117->-r requirements.txt (line 3)) (3.1)\u001b[0m\n",
      "\u001b[34mRequirement already satisfied: jinja2 in /opt/conda/lib/python3.10/site-packages (from torch->openai-whisper==20231117->-r requirements.txt (line 3)) (3.1.2)\u001b[0m\n",
      "\u001b[34mCollecting tokenizers<0.19,>=0.14 (from transformers<5.0.0,>=4.32.0->sentence-transformers->-r requirements.txt (line 6))\n",
      "  Downloading tokenizers-0.15.2-cp310-cp310-manylinux_2_17_x86_64.manylinux2014_x86_64.whl.metadata (6.7 kB)\u001b[0m\n",
      "\u001b[34mCollecting safetensors>=0.4.1 (from transformers<5.0.0,>=4.32.0->sentence-transformers->-r requirements.txt (line 6))\n",
      "  Downloading safetensors-0.4.2-cp310-cp310-manylinux_2_17_x86_64.manylinux2014_x86_64.whl.metadata (3.8 kB)\u001b[0m\n",
      "\u001b[34mRequirement already satisfied: six in /opt/conda/lib/python3.10/site-packages (from google-pasta->sagemaker->-r requirements.txt (line 4)) (1.16.0)\u001b[0m\n",
      "\u001b[34mRequirement already satisfied: jsonschema-specifications>=2023.03.6 in /opt/conda/lib/python3.10/site-packages (from jsonschema->sagemaker->-r requirements.txt (line 4)) (2023.6.1)\u001b[0m\n",
      "\u001b[34mRequirement already satisfied: referencing>=0.28.4 in /opt/conda/lib/python3.10/site-packages (from jsonschema->sagemaker->-r requirements.txt (line 4)) (0.29.1)\u001b[0m\n",
      "\u001b[34mRequirement already satisfied: rpds-py>=0.7.1 in /opt/conda/lib/python3.10/site-packages (from jsonschema->sagemaker->-r requirements.txt (line 4)) (0.8.10)\u001b[0m\n",
      "\u001b[34mRequirement already satisfied: llvmlite<0.41,>=0.40.0dev0 in /opt/conda/lib/python3.10/site-packages (from numba->openai-whisper==20231117->-r requirements.txt (line 3)) (0.40.1)\u001b[0m\n",
      "\u001b[34mRequirement already satisfied: python-dateutil>=2.8.2 in /opt/conda/lib/python3.10/site-packages (from pandas->sagemaker->-r requirements.txt (line 4)) (2.8.2)\u001b[0m\n",
      "\u001b[34mRequirement already satisfied: pytz>=2020.1 in /opt/conda/lib/python3.10/site-packages (from pandas->sagemaker->-r requirements.txt (line 4)) (2023.3)\u001b[0m\n",
      "\u001b[34mRequirement already satisfied: tzdata>=2022.1 in /opt/conda/lib/python3.10/site-packages (from pandas->sagemaker->-r requirements.txt (line 4)) (2023.3)\u001b[0m\n",
      "\u001b[34mRequirement already satisfied: ppft>=1.7.6.6 in /opt/conda/lib/python3.10/site-packages (from pathos->sagemaker->-r requirements.txt (line 4)) (1.7.6.6)\u001b[0m\n",
      "\u001b[34mRequirement already satisfied: dill>=0.3.6 in /opt/conda/lib/python3.10/site-packages (from pathos->sagemaker->-r requirements.txt (line 4)) (0.3.6)\u001b[0m\n",
      "\u001b[34mRequirement already satisfied: pox>=0.3.2 in /opt/conda/lib/python3.10/site-packages (from pathos->sagemaker->-r requirements.txt (line 4)) (0.3.2)\u001b[0m\n",
      "\u001b[34mRequirement already satisfied: multiprocess>=0.70.14 in /opt/conda/lib/python3.10/site-packages (from pathos->sagemaker->-r requirements.txt (line 4)) (0.70.14)\u001b[0m\n",
      "\u001b[34mRequirement already satisfied: contextlib2>=0.5.5 in /opt/conda/lib/python3.10/site-packages (from schema->sagemaker->-r requirements.txt (line 4)) (21.6.0)\u001b[0m\n",
      "\u001b[34mRequirement already satisfied: joblib>=1.1.1 in /opt/conda/lib/python3.10/site-packages (from scikit-learn->sentence-transformers->-r requirements.txt (line 6)) (1.3.0)\u001b[0m\n",
      "\u001b[34mRequirement already satisfied: threadpoolctl>=2.0.0 in /opt/conda/lib/python3.10/site-packages (from scikit-learn->sentence-transformers->-r requirements.txt (line 6)) (3.2.0)\u001b[0m\n",
      "\u001b[34mRequirement already satisfied: MarkupSafe>=2.0 in /opt/conda/lib/python3.10/site-packages (from jinja2->torch->openai-whisper==20231117->-r requirements.txt (line 3)) (2.1.3)\u001b[0m\n",
      "\u001b[34mRequirement already satisfied: mpmath>=0.19 in /opt/conda/lib/python3.10/site-packages (from sympy->torch->openai-whisper==20231117->-r requirements.txt (line 3)) (1.3.0)\u001b[0m\n",
      "\u001b[34mDownloading tiktoken-0.6.0-cp310-cp310-manylinux_2_17_x86_64.manylinux2014_x86_64.whl (1.8 MB)\n",
      "   ━━━━━━━━━━━━━━━━━━━━━━━━━━━━━━━━━━━━━━━━ 1.8/1.8 MB 61.7 MB/s eta 0:00:00\u001b[0m\n",
      "\u001b[34mDownloading pydub-0.25.1-py2.py3-none-any.whl (32 kB)\u001b[0m\n",
      "\u001b[34mDownloading sentence_transformers-2.5.1-py3-none-any.whl (156 kB)\n",
      "   ━━━━━━━━━━━━━━━━━━━━━━━━━━━━━━━━━━━━━━━━ 156.5/156.5 kB 17.6 MB/s eta 0:00:00\u001b[0m\n",
      "\u001b[34mDownloading decorator-4.4.2-py2.py3-none-any.whl (9.2 kB)\u001b[0m\n",
      "\u001b[34mDownloading imageio_ffmpeg-0.4.9-py3-none-manylinux2010_x86_64.whl (26.9 MB)\u001b[0m\n",
      "\u001b[34m   ━━━━━━━━━━━━━━━━━━━━━━━━━━━━━━━━━━━━━━━━ 26.9/26.9 MB 63.4 MB/s eta 0:00:00\u001b[0m\n",
      "\u001b[34mDownloading proglog-0.1.10-py3-none-any.whl (6.1 kB)\u001b[0m\n",
      "\u001b[34mDownloading transformers-4.38.2-py3-none-any.whl (8.5 MB)\n",
      "   ━━━━━━━━━━━━━━━━━━━━━━━━━━━━━━━━━━━━━━━━ 8.5/8.5 MB 81.9 MB/s eta 0:00:00\u001b[0m\n",
      "\u001b[34mDownloading triton-2.2.0-cp310-cp310-manylinux_2_17_x86_64.manylinux2014_x86_64.whl (167.9 MB)\u001b[0m\n",
      "\u001b[34m   ━━━━━━━━━━━━━━━━━━━━━━━━━━━━━━━━━━━━━━━━ 167.9/167.9 MB 19.5 MB/s eta 0:00:00\u001b[0m\n",
      "\u001b[34mDownloading more_itertools-10.2.0-py3-none-any.whl (57 kB)\n",
      "   ━━━━━━━━━━━━━━━━━━━━━━━━━━━━━━━━━━━━━━━━ 57.0/57.0 kB 5.9 MB/s eta 0:00:00\u001b[0m\n",
      "\u001b[34mDownloading safetensors-0.4.2-cp310-cp310-manylinux_2_17_x86_64.manylinux2014_x86_64.whl (1.3 MB)\n",
      "   ━━━━━━━━━━━━━━━━━━━━━━━━━━━━━━━━━━━━━━━━ 1.3/1.3 MB 58.2 MB/s eta 0:00:00\u001b[0m\n",
      "\u001b[34mDownloading tokenizers-0.15.2-cp310-cp310-manylinux_2_17_x86_64.manylinux2014_x86_64.whl (3.6 MB)\n",
      "   ━━━━━━━━━━━━━━━━━━━━━━━━━━━━━━━━━━━━━━━━ 3.6/3.6 MB 64.3 MB/s eta 0:00:00\u001b[0m\n",
      "\u001b[34mBuilding wheels for collected packages: moviepy, openai-whisper\n",
      "  Building wheel for moviepy (setup.py): started\u001b[0m\n",
      "\u001b[34m  Building wheel for moviepy (setup.py): finished with status 'done'\n",
      "  Created wheel for moviepy: filename=moviepy-1.0.3-py3-none-any.whl size=110730 sha256=155fdf218bafebe7bf20766f98c882ed66cf702cab42f7b0b398d13ca8439eb4\n",
      "  Stored in directory: /root/.cache/pip/wheels/96/32/2d/e10123bd88fbfc02fed53cc18c80a171d3c87479ed845fa7c1\n",
      "  Building wheel for openai-whisper (pyproject.toml): started\u001b[0m\n",
      "\u001b[34m  Building wheel for openai-whisper (pyproject.toml): finished with status 'done'\n",
      "  Created wheel for openai-whisper: filename=openai_whisper-20231117-py3-none-any.whl size=802825 sha256=658c09d4b0c19e4d292c49f6056478cf71b02816ee7120427e3e96edac10bd60\n",
      "  Stored in directory: /tmp/pip-ephem-wheel-cache-bd8duxm4/wheels/8b/6c/d0/622666868c179f156cf595c8b6f06f88bc5d80c4b31dccaa03\u001b[0m\n",
      "\u001b[34mSuccessfully built moviepy openai-whisper\u001b[0m\n",
      "\u001b[34mInstalling collected packages: pydub, triton, safetensors, proglog, more-itertools, imageio_ffmpeg, decorator, tiktoken, moviepy, tokenizers, openai-whisper, transformers, sentence-transformers\u001b[0m\n",
      "\u001b[34m  Attempting uninstall: triton\n",
      "    Found existing installation: triton 2.0.0.dev20221202\n",
      "    Uninstalling triton-2.0.0.dev20221202:\n",
      "      Successfully uninstalled triton-2.0.0.dev20221202\u001b[0m\n",
      "\u001b[34m  Attempting uninstall: decorator\n",
      "    Found existing installation: decorator 5.1.1\n",
      "    Uninstalling decorator-5.1.1:\n",
      "      Successfully uninstalled decorator-5.1.1\n",
      "  Attempting uninstall: tokenizers\n",
      "    Found existing installation: tokenizers 0.13.3\n",
      "    Uninstalling tokenizers-0.13.3:\n",
      "      Successfully uninstalled tokenizers-0.13.3\u001b[0m\n",
      "\u001b[34m  Attempting uninstall: transformers\n",
      "    Found existing installation: transformers 4.28.1\n",
      "    Uninstalling transformers-4.28.1:\n",
      "      Successfully uninstalled transformers-4.28.1\u001b[0m\n",
      "\u001b[34mSuccessfully installed decorator-4.4.2 imageio_ffmpeg-0.4.9 more-itertools-10.2.0 moviepy-1.0.3 openai-whisper-20231117 proglog-0.1.10 pydub-0.25.1 safetensors-0.4.2 sentence-transformers-2.5.1 tiktoken-0.6.0 tokenizers-0.15.2 transformers-4.38.2 triton-2.2.0\u001b[0m\n",
      "\u001b[34mWARNING: Running pip as the 'root' user can result in broken permissions and conflicting behaviour with the system package manager. It is recommended to use a virtual environment instead: https://pip.pypa.io/warnings/venv\u001b[0m\n",
      "\u001b[34m[notice] A new release of pip is available: 23.3.2 -> 24.0\u001b[0m\n",
      "\u001b[34m[notice] To update, run: pip install --upgrade pip\u001b[0m\n",
      "\u001b[34m#015config.json:   0%|          | 0.00/1.99k [00:00<?, ?B/s]#015config.json: 100%|██████████| 1.99k/1.99k [00:00<00:00, 10.9MB/s]\u001b[0m\n",
      "\u001b[34m#015model.safetensors:   0%|          | 0.00/6.17G [00:00<?, ?B/s]#015model.safetensors:   0%|          | 21.0M/6.17G [00:00<00:53, 115MB/s]#015model.safetensors:   1%|          | 52.4M/6.17G [00:00<00:33, 183MB/s]#015model.safetensors:   2%|▏         | 105M/6.17G [00:00<00:21, 285MB/s] #015model.safetensors:   3%|▎         | 157M/6.17G [00:00<00:17, 342MB/s]#015model.safetensors:   3%|▎         | 199M/6.17G [00:00<00:16, 360MB/s]#015model.safetensors:   4%|▍         | 241M/6.17G [00:00<00:17, 346MB/s]#015model.safetensors:   5%|▍         | 283M/6.17G [00:00<00:17, 346MB/s]#015model.safetensors:   5%|▌         | 325M/6.17G [00:01<00:16, 345MB/s]#015model.safetensors:   6%|▌         | 367M/6.17G [00:01<00:17, 339MB/s]#015model.safetensors:   7%|▋         | 409M/6.17G [00:01<00:16, 353MB/s]#015model.safetensors:   7%|▋         | 451M/6.17G [00:01<00:16, 344MB/s]#015model.safetensors:   8%|▊         | 493M/6.17G [00:01<00:17, 330MB/s]#015model.safetensors:   9%|▉         | 545M/6.17G [00:01<00:15, 361MB/s]#015model.safetensors:  10%|▉         | 587M/6.17G [00:01<00:15, 363MB/s]#015model.safetensors:  10%|█         | 629M/6.17G [00:01<00:15, 366MB/s]#015model.safetensors:  11%|█         | 671M/6.17G [00:01<00:14, 377MB/s]#015model.safetensors:  12%|█▏        | 724M/6.17G [00:02<00:13, 392MB/s]#015model.safetensors:  12%|█▏        | 765M/6.17G [00:02<00:13, 388MB/s]#015model.safetensors:  13%|█▎        | 807M/6.17G [00:02<00:16, 325MB/s]#015model.safetensors:  14%|█▍        | 849M/6.17G [00:02<00:16, 319MB/s]#015model.safetensors:  14%|█▍        | 891M/6.17G [00:02<00:15, 334MB/s]#015model.safetensors:  15%|█▌        | 944M/6.17G [00:02<00:14, 362MB/s]#015model.safetensors:  16%|█▌        | 996M/6.17G [00:02<00:13, 383MB/s]#015model.safetensors:  17%|█▋        | 1.05G/6.17G [00:03<00:12, 399MB/s]#015model.safetensors:  18%|█▊        | 1.09G/6.17G [00:03<00:12, 396MB/s]#015model.safetensors:  18%|█▊        | 1.13G/6.17G [00:03<00:12, 399MB/s]#015model.safetensors:  19%|█▉        | 1.17G/6.17G [00:03<00:12, 387MB/s]#015model.safetensors:  20%|█▉        | 1.22G/6.17G [00:03<00:14, 336MB/s]#015model.safetensors:  20%|██        | 1.26G/6.17G [00:03<00:13, 351MB/s]#015model.safetensors:  21%|██        | 1.30G/6.17G [00:03<00:13, 351MB/s]#015model.safetensors:  22%|██▏       | 1.35G/6.17G [00:03<00:12, 378MB/s]#015model.safetensors:  23%|██▎       | 1.41G/6.17G [00:04<00:13, 362MB/s]#015model.safetensors:  23%|██▎       | 1.45G/6.17G [00:04<00:13, 357MB/s]#015model.safetensors:  24%|██▍       | 1.49G/6.17G [00:04<00:12, 366MB/s]#015model.safetensors:  25%|██▍       | 1.53G/6.17G [00:04<00:12, 377MB/s]#015model.safetensors:  25%|██▌       | 1.57G/6.17G [00:04<00:13, 348MB/s]#015model.safetensors:  26%|██▌       | 1.61G/6.17G [00:04<00:12, 360MB/s]#015model.safetensors:  27%|██▋       | 1.67G/6.17G [00:04<00:11, 383MB/s]#015model.safetensors:  28%|██▊       | 1.71G/6.17G [00:04<00:11, 380MB/s]#015model.safetensors:  28%|██▊       | 1.75G/6.17G [00:04<00:11, 391MB/s]#015model.safetensors:  29%|██▉       | 1.80G/6.17G [00:05<00:11, 396MB/s]#015model.safetensors:  30%|██▉       | 1.85G/6.17G [00:05<00:10, 394MB/s]#015model.safetensors:  31%|███       | 1.90G/6.17G [00:05<00:10, 404MB/s]#015model.safetensors:  32%|███▏      | 1.95G/6.17G [00:05<00:10, 415MB/s]#015model.safetensors:  32%|███▏      | 2.00G/6.17G [00:05<00:09, 424MB/s]#015model.safetensors:  33%|███▎      | 2.06G/6.17G [00:05<00:09, 430MB/s]#015model.safetensors:  34%|███▍      | 2.11G/6.17G [00:05<00:11, 368MB/s]#015model.safetensors:  35%|███▍      | 2.15G/6.17G [00:05<00:10, 370MB/s]#015model.safetensors:  35%|███▌      | 2.19G/6.17G [00:06<00:11, 353MB/s]#015model.safetensors:  36%|███▌      | 2.23G/6.17G [00:06<00:11, 345MB/s]#015model.safetensors:  37%|███▋      | 2.28G/6.17G [00:06<00:11, 349MB/s]#015model.safetensors:  38%|███▊      | 2.32G/6.17G [00:06<00:11, 344MB/s]#015model.safetensors:  38%|███▊      | 2.37G/6.17G [00:06<00:10, 369MB/s]#015model.safetensors:  39%|███▉      | 2.42G/6.17G [00:06<00:09, 381MB/s]#015model.safetensors:  40%|███▉      | 2.46G/6.17G [00:06<00:09, 388MB/s]#015model.safetensors:  41%|████      | 2.51G/6.17G [00:06<00:09, 377MB/s]#015model.safetensors:  41%|████▏     | 2.56G/6.17G [00:07<00:09, 393MB/s]#015model.safetensors:  42%|████▏     | 2.60G/6.17G [00:07<00:09, 380MB/s]#015model.safetensors:  43%|████▎     | 2.65G/6.17G [00:07<00:08, 398MB/s]#015model.safetensors:  44%|████▎     | 2.69G/6.17G [00:07<00:09, 365MB/s]#015model.safetensors:  44%|████▍     | 2.74G/6.17G [00:07<00:09, 355MB/s]#015model.safetensors:  45%|████▌     | 2.78G/6.17G [00:07<00:09, 358MB/s]#015model.safetensors:  46%|████▌     | 2.82G/6.17G [00:07<00:09, 339MB/s]#015model.safetensors:  46%|████▋     | 2.86G/6.17G [00:07<00:09, 349MB/s]#015model.safetensors:  47%|████▋     | 2.90G/6.17G [00:08<00:09, 342MB/s]#015model.safetensors:  48%|████▊     | 2.95G/6.17G [00:08<00:09, 328MB/s]#015model.safetensors:  48%|████▊     | 2.99G/6.17G [00:08<00:09, 332MB/s]#015model.safetensors:  49%|████▉     | 3.03G/6.17G [00:08<00:08, 350MB/s]#015model.safetensors:  50%|████▉     | 3.07G/6.17G [00:08<00:08, 367MB/s]#015model.safetensors:  50%|█████     | 3.11G/6.17G [00:08<00:08, 377MB/s]#015model.safetensors:  51%|█████     | 3.16G/6.17G [00:08<00:07, 384MB/s]#015model.safetensors:  52%|█████▏    | 3.20G/6.17G [00:08<00:07, 390MB/s]#015model.safetensors:  53%|█████▎    | 3.25G/6.17G [00:08<00:07, 400MB/s]#015model.safetensors:  53%|█████▎    | 3.29G/6.17G [00:09<00:07, 397MB/s]#015model.safetensors:  54%|█████▍    | 3.33G/6.17G [00:09<00:07, 390MB/s]#015model.safetensors:  55%|█████▍    | 3.38G/6.17G [00:09<00:07, 370MB/s]#015model.safetensors:  55%|█████▌    | 3.42G/6.17G [00:09<00:07, 356MB/s]#015model.safetensors:  56%|█████▌    | 3.46G/6.17G [00:09<00:07, 368MB/s]#015model.safetensors:  57%|█████▋    | 3.50G/6.17G [00:09<00:07, 379MB/s]#015model.safetensors:  57%|█████▋    | 3.54G/6.17G [00:09<00:06, 387MB/s]#015model.safetensors:  58%|█████▊    | 3.59G/6.17G [00:09<00:06, 395MB/s]#015model.safetensors:  59%|█████▉    | 3.63G/6.17G [00:09<00:06, 401MB/s]#015model.safetensors:  59%|█████▉    | 3.67G/6.17G [00:10<00:09, 259MB/s]#015model.safetensors:  60%|██████    | 3.71G/6.17G [00:10<00:10, 231MB/s]#015model.safetensors:  61%|██████    | 3.75G/6.17G [00:10<00:09, 261MB/s]#015model.safetensors:  61%|██████▏   | 3.80G/6.17G [00:10<00:08, 292MB/s]#015model.safetensors:  62%|██████▏   | 3.84G/6.17G [00:10<00:07, 318MB/s]#015model.safetensors:  63%|██████▎   | 3.88G/6.17G [00:10<00:06, 339MB/s]#015model.safetensors:  64%|██████▎   | 3.92G/6.17G [00:10<00:06, 356MB/s]#015model.safetensors:  64%|██████▍   | 3.96G/6.17G [00:11<00:06, 367MB/s]#015model.safetensors:  65%|██████▍   | 4.01G/6.17G [00:11<00:05, 379MB/s]#015model.safetensors:  66%|██████▌   | 4.05G/6.17G [00:11<00:05, 385MB/s]#015model.safetensors:  66%|██████▌   | 4.09G/6.17G [00:11<00:05, 393MB/s]#015model.safetensors:  67%|██████▋   | 4.13G/6.17G [00:11<00:05, 398MB/s]#015model.safetensors:  68%|██████▊   | 4.17G/6.17G [00:11<00:04, 403MB/s]#015model.safetensors:  68%|██████▊   | 4.22G/6.17G [00:11<00:04, 406MB/s]#015model.safetensors:  69%|██████▉   | 4.26G/6.17G [00:11<00:04, 409MB/s]#015model.safetensors:  70%|██████▉   | 4.30G/6.17G [00:11<00:04, 411MB/s]#015model.safetensors:  70%|███████   | 4.34G/6.17G [00:11<00:04, 412MB/s]#015model.safetensors:  71%|███████   | 4.38G/6.17G [00:12<00:04, 383MB/s]#015model.safetensors:  72%|███████▏  | 4.42G/6.17G [00:12<00:04, 387MB/s]#015model.safetensors:  72%|███████▏  | 4.47G/6.17G [00:12<00:04, 392MB/s]#015model.safetensors:  73%|███████▎  | 4.51G/6.17G [00:12<00:04, 395MB/s]#015model.safetensors:  74%|███████▎  | 4.55G/6.17G [00:12<00:04, 398MB/s]#015model.safetensors:  74%|███████▍  | 4.59G/6.17G [00:12<00:03, 401MB/s]#015model.safetensors:  75%|███████▌  | 4.63G/6.17G [00:12<00:03, 405MB/s]#015model.safetensors:  76%|███████▌  | 4.68G/6.17G [00:12<00:03, 406MB/s]#015model.safetensors:  76%|███████▋  | 4.72G/6.17G [00:12<00:03, 409MB/s]#015model.safetensors:  77%|███████▋  | 4.76G/6.17G [00:13<00:03, 410MB/s]#015model.safetensors:  78%|███████▊  | 4.80G/6.17G [00:13<00:03, 412MB/s]#015model.safetensors:  78%|███████▊  | 4.84G/6.17G [00:13<00:03, 412MB/s]#015model.safetensors:  79%|███████▉  | 4.89G/6.17G [00:13<00:03, 391MB/s]#015model.safetensors:  80%|███████▉  | 4.93G/6.17G [00:13<00:03, 389MB/s]#015model.safetensors:  81%|████████  | 4.97G/6.17G [00:13<00:03, 391MB/s]#015model.safetensors:  81%|████████  | 5.01G/6.17G [00:13<00:02, 393MB/s]#015model.safetensors:  82%|████████▏ | 5.05G/6.17G [00:13<00:02, 373MB/s]#015model.safetensors:  83%|████████▎ | 5.10G/6.17G [00:13<00:02, 361MB/s]#015model.safetensors:  83%|████████▎ | 5.14G/6.17G [00:14<00:02, 359MB/s]#015model.safetensors:  84%|████████▍ | 5.18G/6.17G [00:14<00:02, 358MB/s]#015model.safetensors:  85%|████████▍ | 5.22G/6.17G [00:14<00:02, 369MB/s]#015model.safetensors:  85%|████████▌ | 5.26G/6.17G [00:14<00:02, 380MB/s]#015model.safetensors:  86%|████████▌ | 5.31G/6.17G [00:14<00:02, 386MB/s]#015model.safetensors:  87%|████████▋ | 5.35G/6.17G [00:14<00:02, 391MB/s]#015model.safetensors:  87%|████████▋ | 5.39G/6.17G [00:14<00:01, 397MB/s]#015model.safetensors:  88%|████████▊ | 5.43G/6.17G [00:14<00:01, 401MB/s]#015model.safetensors:  89%|████████▊ | 5.47G/6.17G [00:14<00:01, 382MB/s]#015model.safetensors:  89%|████████▉ | 5.52G/6.17G [00:15<00:01, 385MB/s]#015model.safetensors:  90%|█████████ | 5.56G/6.17G [00:15<00:01, 391MB/s]#015model.safetensors:  91%|█████████ | 5.60G/6.17G [00:15<00:01, 387MB/s]#015model.safetensors:  91%|█████████▏| 5.64G/6.17G [00:15<00:01, 383MB/s]#015model.safetensors:  92%|█████████▏| 5.68G/6.17G [00:15<00:01, 386MB/s]#015model.safetensors:  93%|█████████▎| 5.73G/6.17G [00:15<00:01, 323MB/s]#015model.safetensors:  93%|█████████▎| 5.77G/6.17G [00:15<00:01, 338MB/s]#015model.safetensors:  94%|█████████▍| 5.81G/6.17G [00:15<00:01, 355MB/s]#015model.safetensors:  95%|█████████▍| 5.85G/6.17G [00:15<00:00, 369MB/s]#015model.safetensors:  95%|█████████▌| 5.89G/6.17G [00:16<00:00, 375MB/s]#015model.safetensors:  96%|█████████▌| 5.93G/6.17G [00:16<00:01, 123MB/s]#015model.safetensors:  97%|█████████▋| 5.98G/6.17G [00:17<00:01, 152MB/s]#015model.safetensors:  97%|█████████▋| 6.02G/6.17G [00:17<00:00, 179MB/s]#015model.safetensors:  98%|█████████▊| 6.05G/6.17G [00:17<00:00, 196MB/s]#015model.safetensors:  99%|█████████▊| 6.09G/6.17G [00:17<00:00, 230MB/s]#015model.safetensors:  99%|█████████▉| 6.13G/6.17G [00:17<00:00, 263MB/s]#015model.safetensors: 100%|██████████| 6.17G/6.17G [00:17<00:00, 287MB/s]#015model.safetensors: 100%|██████████| 6.17G/6.17G [00:17<00:00, 350MB/s]\u001b[0m\n",
      "\u001b[34m#015generation_config.json:   0%|          | 0.00/4.29k [00:00<?, ?B/s]#015generation_config.json: 100%|██████████| 4.29k/4.29k [00:00<00:00, 18.9MB/s]\u001b[0m\n",
      "\u001b[34m#015tokenizer_config.json:   0%|          | 0.00/283k [00:00<?, ?B/s]#015tokenizer_config.json: 100%|██████████| 283k/283k [00:00<00:00, 33.9MB/s]\u001b[0m\n",
      "\u001b[34m#015vocab.json:   0%|          | 0.00/836k [00:00<?, ?B/s]#015vocab.json: 100%|██████████| 836k/836k [00:00<00:00, 6.14MB/s]#015vocab.json: 100%|██████████| 836k/836k [00:00<00:00, 6.10MB/s]\u001b[0m\n",
      "\u001b[34m#015tokenizer.json:   0%|          | 0.00/2.48M [00:00<?, ?B/s]#015tokenizer.json: 100%|██████████| 2.48M/2.48M [00:00<00:00, 60.6MB/s]\u001b[0m\n",
      "\u001b[34m#015merges.txt:   0%|          | 0.00/494k [00:00<?, ?B/s]#015merges.txt: 100%|██████████| 494k/494k [00:00<00:00, 29.7MB/s]\u001b[0m\n",
      "\u001b[34m#015normalizer.json:   0%|          | 0.00/52.7k [00:00<?, ?B/s]#015normalizer.json: 100%|██████████| 52.7k/52.7k [00:00<00:00, 124MB/s]\u001b[0m\n",
      "\u001b[34m#015added_tokens.json:   0%|          | 0.00/34.6k [00:00<?, ?B/s]#015added_tokens.json: 100%|██████████| 34.6k/34.6k [00:00<00:00, 121MB/s]\u001b[0m\n",
      "\u001b[34m#015special_tokens_map.json:   0%|          | 0.00/2.19k [00:00<?, ?B/s]#015special_tokens_map.json: 100%|██████████| 2.19k/2.19k [00:00<00:00, 16.1MB/s]\u001b[0m\n",
      "\u001b[34mSpecial tokens have been added in the vocabulary, make sure the associated word embeddings are fine-tuned or trained.\u001b[0m\n",
      "\u001b[34m#015preprocessor_config.json:   0%|          | 0.00/185k [00:00<?, ?B/s]#015preprocessor_config.json: 100%|██████████| 185k/185k [00:00<00:00, 219MB/s]\u001b[0m\n",
      "\u001b[34m/opt/ml/processing/input/genai_interview.mp4\u001b[0m\n",
      "\u001b[34mMoviePy - Writing audio in /opt/ml/processing/input/genai_interview.mp3\u001b[0m\n",
      "\u001b[34mMoviePy - Done.\u001b[0m\n",
      "\u001b[34m#015chunk:   0%|          | 0/23015 [00:00<?, ?it/s, now=None]#015chunk:   1%|          | 117/23015 [00:00<00:19, 1162.30it/s, now=None]#015chunk:   1%|          | 236/23015 [00:00<00:19, 1165.76it/s, now=None]#015chunk:   2%|▏         | 353/23015 [00:00<00:19, 1141.00it/s, now=None]#015chunk:   2%|▏         | 470/23015 [00:00<00:19, 1145.37it/s, now=None]#015chunk:   3%|▎         | 585/23015 [00:00<00:19, 1137.74it/s, now=None]#015chunk:   3%|▎         | 699/23015 [00:00<00:19, 1121.33it/s, now=None]#015chunk:   4%|▎         | 813/23015 [00:00<00:19, 1127.00it/s, now=None]#015chunk:   4%|▍         | 926/23015 [00:00<00:21, 1020.56it/s, now=None]#015chunk:   4%|▍         | 1030/23015 [00:00<00:23, 928.63it/s, now=None]#015chunk:   5%|▍         | 1126/23015 [00:01<00:23, 917.00it/s, now=None]#015chunk:   6%|▌         | 1282/23015 [00:01<00:19, 1091.71it/s, now=None]#015chunk:   6%|▋         | 1443/23015 [00:01<00:17, 1234.37it/s, now=None]#015chunk:   7%|▋         | 1603/23015 [00:01<00:15, 1338.79it/s, now=None]#015chunk:   8%|▊         | 1759/23015 [00:01<00:15, 1397.18it/s, now=None]#015chunk:   8%|▊         | 1926/23015 [00:01<00:14, 1474.87it/s, now=None]#015chunk:   9%|▉         | 2076/23015 [00:01<00:14, 1448.14it/s, now=None]#015chunk:  10%|▉         | 2223/23015 [00:01<00:15, 1351.29it/s, now=None]#015chunk:  10%|█         | 2361/23015 [00:01<00:16, 1272.27it/s, now=None]#015chunk:  11%|█         | 2491/23015 [00:02<00:16, 1244.73it/s, now=None]#015chunk:  11%|█▏        | 2617/23015 [00:02<00:16, 1208.30it/s, now=None]#015chunk:  12%|█▏        | 2739/23015 [00:02<00:16, 1195.74it/s, now=None]#015chunk:  12%|█▏        | 2860/23015 [00:02<00:17, 1178.47it/s, now=None]#015chunk:  13%|█▎        | 2979/23015 [00:02<00:17, 1162.08it/s, now=None]#015chunk:  13%|█▎        | 3096/23015 [00:02<00:17, 1161.55it/s, now=None]#015chunk:  14%|█▍        | 3213/23015 [00:02<00:17, 1126.14it/s, now=None]#015chunk:  14%|█▍        | 3326/23015 [00:02<00:18, 1078.57it/s, now=None]#015chunk:  15%|█▍        | 3437/23015 [00:02<00:18, 1083.46it/s, now=None]#015chunk:  15%|█▌        | 3546/23015 [00:03<00:17, 1084.63it/s, now=None]#015chunk:  16%|█▌        | 3655/23015 [00:03<00:18, 1071.03it/s, now=None]#015chunk:  16%|█▋        | 3767/23015 [00:03<00:17, 1069.43it/s, now=None]#015chunk:  17%|█▋        | 3875/23015 [00:03<00:18, 1040.14it/s, now=None]#015chunk:  17%|█▋        | 3980/23015 [00:03<00:19, 990.02it/s, now=None] #015chunk:  18%|█▊        | 4080/23015 [00:03<00:19, 950.31it/s, now=None]#015chunk:  18%|█▊        | 4176/23015 [00:03<00:20, 921.99it/s, now=None]#015chunk:  19%|█▊        | 4269/23015 [00:03<00:20, 895.83it/s, now=None]#015chunk:  19%|█▉        | 4363/23015 [00:03<00:20, 907.26it/s, now=None]#015chunk:  19%|█▉        | 4464/23015 [00:04<00:19, 932.23it/s, now=None]#015chunk:  20%|█▉        | 4558/23015 [00:04<00:19, 926.49it/s, now=None]#015chunk:  20%|██        | 4656/23015 [00:04<00:19, 940.23it/s, now=None]#015chunk:  21%|██        | 4771/23015 [00:04<00:18, 999.83it/s, now=None]#015chunk:  21%|██        | 4885/23015 [00:04<00:17, 1032.75it/s, now=None]#015chunk:  22%|██▏       | 4995/23015 [00:04<00:17, 1052.01it/s, now=None]#015chunk:  22%|██▏       | 5102/23015 [00:04<00:16, 1054.00it/s, now=None]#015chunk:  23%|██▎       | 5214/23015 [00:04<00:16, 1073.00it/s, now=None]#015chunk:  23%|██▎       | 5323/23015 [00:04<00:16, 1063.13it/s, now=None]#015chunk:  24%|██▎       | 5430/23015 [00:04<00:16, 1053.91it/s, now=None]#015chunk:  24%|██▍       | 5536/23015 [00:05<00:17, 993.64it/s, now=None] #015chunk:  24%|██▍       | 5637/23015 [00:05<00:18, 953.20it/s, now=None]#015chunk:  25%|██▍       | 5734/23015 [00:05<00:18, 913.54it/s, now=None]#015chunk:  25%|██▌       | 5826/23015 [00:05<00:19, 900.08it/s, now=None]#015chunk:  26%|██▌       | 5938/23015 [00:05<00:17, 957.55it/s, now=None]#015chunk:  26%|██▋       | 6051/23015 [00:05<00:16, 1003.48it/s, now=None]#015chunk:  27%|██▋       | 6166/23015 [00:05<00:16, 1039.05it/s, now=None]#015chunk:  27%|██▋       | 6277/23015 [00:05<00:15, 1049.47it/s, now=None]#015chunk:  28%|██▊       | 6399/23015 [00:05<00:15, 1094.57it/s, now=None]#015chunk:  28%|██▊       | 6509/23015 [00:06<00:15, 1077.09it/s, now=None]#015chunk:  29%|██▉       | 6618/23015 [00:06<00:15, 1080.31it/s, now=None]#015chunk:  29%|██▉       | 6727/23015 [00:06<00:15, 1053.31it/s, now=None]#015chunk:  30%|██▉       | 6833/23015 [00:06<00:15, 1039.61it/s, now=None]#015chunk:  30%|███       | 6944/23015 [00:06<00:15, 1053.98it/s, now=None]#015chunk:  31%|███       | 7063/23015 [00:06<00:14, 1085.24it/s, now=None]#015chunk:  31%|███       | 7172/23015 [00:06<00:14, 1085.87it/s, now=None]#015chunk:  32%|███▏      | 7281/23015 [00:06<00:14, 1069.88it/s, now=None]#015chunk:  32%|███▏      | 7390/23015 [00:06<00:14, 1067.16it/s, now=None]#015chunk:  33%|███▎      | 7497/23015 [00:06<00:14, 1059.60it/s, now=None]#015chunk:  33%|███▎      | 7604/23015 [00:07<00:14, 1036.61it/s, now=None]#015chunk:  34%|███▎      | 7716/23015 [00:07<00:14, 1060.17it/s, now=None]#015chunk:  34%|███▍      | 7824/23015 [00:07<00:14, 1058.67it/s, now=None]#015chunk:  34%|███▍      | 7934/23015 [00:07<00:14, 1061.07it/s, now=None]#015chunk:  35%|███▌      | 8071/23015 [00:07<00:12, 1150.93it/s, now=None]#015chunk:  36%|███▌      | 8197/23015 [00:07<00:12, 1176.82it/s, now=None]#015chunk:  36%|███▌      | 8327/23015 [00:07<00:12, 1208.75it/s, now=None]#015chunk:  37%|███▋      | 8459/23015 [00:07<00:11, 1240.66it/s, now=None]#015chunk:  37%|███▋      | 8584/23015 [00:07<00:11, 1238.71it/s, now=None]#015chunk:  38%|███▊      | 8715/23015 [00:07<00:11, 1255.65it/s, now=None]#015chunk:  38%|███▊      | 8843/23015 [00:08<00:11, 1262.20it/s, now=None]#015chunk:  39%|███▉      | 8974/23015 [00:08<00:11, 1271.94it/s, now=None]#015chunk:  40%|███▉      | 9102/23015 [00:08<00:10, 1269.10it/s, now=None]#015chunk:  40%|████      | 9229/23015 [00:08<00:10, 1267.15it/s, now=None]#015chunk:  41%|████      | 9356/23015 [00:08<00:10, 1251.82it/s, now=None]#015chunk:  41%|████      | 9485/23015 [00:08<00:10, 1258.21it/s, now=None]#015chunk:  42%|████▏     | 9615/23015 [00:08<00:10, 1261.94it/s, now=None]#015chunk:  42%|████▏     | 9742/23015 [00:08<00:10, 1250.90it/s, now=None]#015chunk:  43%|████▎     | 9868/23015 [00:08<00:10, 1235.47it/s, now=None]#015chunk:  43%|████▎     | 9992/23015 [00:08<00:10, 1188.96it/s, now=None]#015chunk:  44%|████▍     | 10113/23015 [00:09<00:10, 1194.19it/s, now=None]#015chunk:  44%|████▍     | 10233/23015 [00:09<00:11, 1158.21it/s, now=None]#015chunk:  45%|████▍     | 10350/23015 [00:09<00:11, 1118.37it/s, now=None]#015chunk:  45%|████▌     | 10463/23015 [00:09<00:11, 1085.56it/s, now=None]#015chunk:  46%|████▌     | 10572/23015 [00:09<00:11, 1071.54it/s, now=None]#015chunk:  46%|████▋     | 10680/23015 [00:09<00:11, 1041.34it/s, now=None]#015chunk:  47%|████▋     | 10786/23015 [00:09<00:11, 1043.77it/s, now=None]#015chunk:  47%|████▋     | 10891/23015 [00:09<00:11, 1042.60it/s, now=None]#015chunk:  48%|████▊     | 10996/23015 [00:09<00:11, 1033.14it/s, now=None]#015chunk:  48%|████▊     | 11106/23015 [00:10<00:11, 1047.51it/s, now=None]#015chunk:  49%|████▊     | 11211/23015 [00:10<00:11, 1047.71it/s, now=None]#015chunk:  49%|████▉     | 11316/23015 [00:10<00:11, 1026.73it/s, now=None]#015chunk:  50%|████▉     | 11419/23015 [00:10<00:11, 1024.43it/s, now=None]#015chunk:  50%|█████     | 11525/23015 [00:10<00:11, 1034.63it/s, now=None]#015chunk:  51%|█████     | 11630/23015 [00:10<00:10, 1035.04it/s, now=None]#015chunk:  51%|█████     | 11749/23015 [00:10<00:10, 1080.24it/s, now=None]#015chunk:  52%|█████▏    | 11866/23015 [00:10<00:10, 1106.90it/s, now=None]#015chunk:  52%|█████▏    | 11978/23015 [00:10<00:09, 1108.80it/s, now=None]#015chunk:  53%|█████▎    | 12093/23015 [00:10<00:09, 1112.82it/s, now=None]#015chunk:  53%|█████▎    | 12205/23015 [00:11<00:09, 1094.00it/s, now=None]#015chunk:  54%|█████▎    | 12315/23015 [00:11<00:09, 1082.17it/s, now=None]#015chunk:  54%|█████▍    | 12424/23015 [00:11<00:09, 1074.77it/s, now=None]#015chunk:  54%|█████▍    | 12532/23015 [00:11<00:09, 1053.51it/s, now=None]#015chunk:  55%|█████▍    | 12638/23015 [00:11<00:10, 1033.79it/s, now=None]#015chunk:  55%|█████▌    | 12742/23015 [00:11<00:09, 1031.72it/s, now=None]#015chunk:  56%|█████▌    | 12850/23015 [00:11<00:09, 1036.80it/s, now=None]#015chunk:  56%|█████▋    | 12954/23015 [00:11<00:10, 1005.89it/s, now=None]#015chunk:  57%|█████▋    | 13055/23015 [00:11<00:10, 993.22it/s, now=None] #015chunk:  57%|█████▋    | 13155/23015 [00:12<00:10, 966.16it/s, now=None]#015chunk:  58%|█████▊    | 13255/23015 [00:12<00:10, 966.71it/s, now=None]#015chunk:  58%|█████▊    | 13355/23015 [00:12<00:10, 958.75it/s, now=None]#015chunk:  59%|█████▊    | 13469/23015 [00:12<00:09, 1003.51it/s, now=None]#015chunk:  59%|█████▉    | 13606/23015 [00:12<00:08, 1100.31it/s, now=None]#015chunk:  60%|█████▉    | 13766/23015 [00:12<00:07, 1245.26it/s, now=None]#015chunk:  61%|██████    | 13925/23015 [00:12<00:06, 1345.72it/s, now=None]#015chunk:  61%|██████    | 14079/23015 [00:12<00:06, 1402.18it/s, now=None]#015chunk:  62%|██████▏   | 14234/23015 [00:12<00:06, 1445.99it/s, now=None]#015chunk:  63%|██████▎   | 14389/23015 [00:12<00:05, 1476.16it/s, now=None]#015chunk:  63%|██████▎   | 14537/23015 [00:13<00:06, 1410.30it/s, now=None]#015chunk:  64%|██████▍   | 14679/23015 [00:13<00:06, 1320.13it/s, now=None]#015chunk:  64%|██████▍   | 14813/23015 [00:13<00:06, 1252.74it/s, now=None]#015chunk:  65%|██████▍   | 14940/23015 [00:13<00:06, 1247.71it/s, now=None]#015chunk:  65%|██████▌   | 15066/23015 [00:13<00:06, 1192.45it/s, now=None]#015chunk:  66%|██████▌   | 15187/23015 [00:13<00:06, 1167.97it/s, now=None]#015chunk:  67%|██████▋   | 15305/23015 [00:13<00:06, 1146.19it/s, now=None]#015chunk:  67%|██████▋   | 15420/23015 [00:13<00:06, 1116.16it/s, now=None]#015chunk:  67%|██████▋   | 15534/23015 [00:13<00:06, 1119.43it/s, now=None]#015chunk:  68%|██████▊   | 15647/23015 [00:14<00:06, 1115.54it/s, now=None]#015chunk:  68%|██████▊   | 15759/23015 [00:14<00:06, 1116.27it/s, now=None]#015chunk:  69%|██████▉   | 15871/23015 [00:14<00:06, 1117.00it/s, now=None]#015chunk:  69%|██████▉   | 15983/23015 [00:14<00:06, 1106.31it/s, now=None]#015chunk:  70%|██████▉   | 16094/23015 [00:14<00:06, 1104.68it/s, now=None]#015chunk:  70%|███████   | 16205/23015 [00:14<00:06, 1092.53it/s, now=None]#015chunk:  71%|███████   | 16315/23015 [00:14<00:06, 1075.38it/s, now=None]#015chunk:  71%|███████▏  | 16423/23015 [00:14<00:06, 1074.57it/s, now=None]#015chunk:  72%|███████▏  | 16568/23015 [00:14<00:05, 1170.90it/s, now=None]#015chunk:  73%|███████▎  | 16701/23015 [00:14<00:05, 1216.19it/s, now=None]#015chunk:  73%|███████▎  | 16831/23015 [00:15<00:05, 1233.94it/s, now=None]#015chunk:  74%|███████▎  | 16960/23015 [00:15<00:04, 1249.84it/s, now=None]#015chunk:  74%|███████▍  | 17102/23015 [00:15<00:04, 1293.34it/s, now=None]#015chunk:  75%|███████▍  | 17237/23015 [00:15<00:04, 1307.84it/s, now=None]#015chunk:  75%|███████▌  | 17371/23015 [00:15<00:04, 1304.78it/s, now=None]#015chunk:  76%|███████▌  | 17502/23015 [00:15<00:04, 1293.58it/s, now=None]#015chunk:  77%|███████▋  | 17632/23015 [00:15<00:04, 1237.53it/s, now=None]#015chunk:  77%|███████▋  | 17757/23015 [00:15<00:04, 1211.44it/s, now=None]#015chunk:  78%|███████▊  | 17879/23015 [00:15<00:04, 1193.94it/s, now=None]#015chunk:  78%|███████▊  | 17999/23015 [00:16<00:04, 1183.69it/s, now=None]#015chunk:  79%|███████▊  | 18118/23015 [00:16<00:04, 1159.39it/s, now=None]#015chunk:  79%|███████▉  | 18235/23015 [00:16<00:04, 1148.78it/s, now=None]#015chunk:  80%|███████▉  | 18350/23015 [00:16<00:04, 1133.45it/s, now=None]#015chunk:  80%|████████  | 18464/23015 [00:16<00:04, 1109.05it/s, now=None]#015chunk:  81%|████████  | 18575/23015 [00:16<00:04, 1097.81it/s, now=None]#015chunk:  81%|████████  | 18685/23015 [00:16<00:03, 1094.16it/s, now=None]#015chunk:  82%|████████▏ | 18795/23015 [00:16<00:03, 1078.91it/s, now=None]#015chunk:  82%|████████▏ | 18903/23015 [00:22<01:01, 67.10it/s, now=None]  #015chunk:  83%|████████▎ | 19011/23015 [00:22<00:43, 92.52it/s, now=None]#015chunk:  83%|████████▎ | 19118/23015 [00:22<00:30, 126.42it/s, now=None]#015chunk:  84%|████████▎ | 19229/23015 [00:22<00:21, 172.61it/s, now=None]#015chunk:  84%|████████▍ | 19347/23015 [00:22<00:15, 235.97it/s, now=None]#015chunk:  85%|████████▍ | 19459/23015 [00:22<00:11, 308.98it/s, now=None]#015chunk:  85%|████████▌ | 19577/23015 [00:22<00:08, 400.61it/s, now=None]#015chunk:  86%|████████▌ | 19698/23015 [00:22<00:06, 506.52it/s, now=None]#015chunk:  86%|████████▌ | 19814/23015 [00:22<00:05, 608.89it/s, now=None]#015chunk:  87%|████████▋ | 19929/23015 [00:22<00:04, 706.09it/s, now=None]#015chunk:  87%|████████▋ | 20044/23015 [00:23<00:03, 797.08it/s, now=None]#015chunk:  88%|████████▊ | 20158/23015 [00:23<00:03, 872.12it/s, now=None]#015chunk:  88%|████████▊ | 20273/23015 [00:23<00:02, 935.47it/s, now=None]#015chunk:  89%|████████▊ | 20388/23015 [00:23<00:02, 989.57it/s, now=None]#015chunk:  89%|████████▉ | 20506/23015 [00:23<00:02, 1034.89it/s, now=None]#015chunk:  90%|████████▉ | 20625/23015 [00:23<00:02, 1072.49it/s, now=None]#015chunk:  90%|█████████ | 20740/23015 [00:23<00:02, 1093.30it/s, now=None]#015chunk:  91%|█████████ | 20855/23015 [00:23<00:01, 1105.71it/s, now=None]#015chunk:  91%|█████████ | 20970/23015 [00:23<00:01, 1105.58it/s, now=None]#015chunk:  92%|█████████▏| 21086/23015 [00:23<00:01, 1109.05it/s, now=None]#015chunk:  92%|█████████▏| 21200/23015 [00:24<00:01, 1117.75it/s, now=None]#015chunk:  93%|█████████▎| 21314/23015 [00:24<00:01, 1096.21it/s, now=None]#015chunk:  93%|█████████▎| 21425/23015 [00:24<00:01, 1094.39it/s, now=None]#015chunk:  94%|█████████▎| 21536/23015 [00:24<00:01, 1098.05it/s, now=None]#015chunk:  94%|█████████▍| 21647/23015 [00:24<00:01, 1095.18it/s, now=None]#015chunk:  95%|█████████▍| 21757/23015 [00:24<00:01, 1095.48it/s, now=None]#015chunk:  95%|█████████▌| 21874/23015 [00:24<00:01, 1116.92it/s, now=None]#015chunk:  96%|█████████▌| 21990/23015 [00:24<00:00, 1116.01it/s, now=None]#015chunk:  96%|█████████▌| 22114/23015 [00:24<00:00, 1143.85it/s, now=None]#015chunk:  97%|█████████▋| 22229/23015 [00:24<00:00, 1142.80it/s, now=None]#015chunk:  97%|█████████▋| 22369/23015 [00:25<00:00, 1212.76it/s, now=None]#015chunk:  98%|█████████▊| 22530/23015 [00:25<00:00, 1330.38it/s, now=None]#015chunk:  99%|█████████▊| 22687/23015 [00:25<00:00, 1401.18it/s, now=None]#015chunk:  99%|█████████▉| 22843/23015 [00:25<00:00, 1426.74it/s, now=None]#015                                                                        #015#015modules.json:   0%|          | 0.00/349 [00:00<?, ?B/s]#015modules.json: 100%|██████████| 349/349 [00:00<00:00, 2.27MB/s]\u001b[0m\n",
      "\u001b[34m#015config_sentence_transformers.json:   0%|          | 0.00/116 [00:00<?, ?B/s]#015config_sentence_transformers.json: 100%|██████████| 116/116 [00:00<00:00, 845kB/s]\u001b[0m\n",
      "\u001b[34m#015README.md:   0%|          | 0.00/10.6k [00:00<?, ?B/s]#015README.md: 100%|██████████| 10.6k/10.6k [00:00<00:00, 56.7MB/s]\u001b[0m\n",
      "\u001b[34m#015sentence_bert_config.json:   0%|          | 0.00/53.0 [00:00<?, ?B/s]#015sentence_bert_config.json: 100%|██████████| 53.0/53.0 [00:00<00:00, 454kB/s]\u001b[0m\n",
      "\u001b[34m#015config.json:   0%|          | 0.00/571 [00:00<?, ?B/s]#015config.json: 100%|██████████| 571/571 [00:00<00:00, 4.88MB/s]\u001b[0m\n",
      "\u001b[34m#015pytorch_model.bin:   0%|          | 0.00/438M [00:00<?, ?B/s]#015pytorch_model.bin:   7%|▋         | 31.5M/438M [00:00<00:01, 293MB/s]#015pytorch_model.bin:  14%|█▍        | 62.9M/438M [00:00<00:01, 289MB/s]#015pytorch_model.bin:  22%|██▏       | 94.4M/438M [00:00<00:01, 293MB/s]#015pytorch_model.bin:  29%|██▊       | 126M/438M [00:00<00:01, 298MB/s] #015pytorch_model.bin:  36%|███▌      | 157M/438M [00:00<00:00, 281MB/s]#015pytorch_model.bin:  45%|████▌     | 199M/438M [00:00<00:00, 304MB/s]#015pytorch_model.bin:  57%|█████▋    | 252M/438M [00:00<00:00, 351MB/s]#015pytorch_model.bin:  69%|██████▉   | 304M/438M [00:00<00:00, 385MB/s]#015pytorch_model.bin:  81%|████████▏ | 357M/438M [00:01<00:00, 408MB/s]#015pytorch_model.bin:  93%|█████████▎| 409M/438M [00:01<00:00, 424MB/s]#015pytorch_model.bin: 100%|██████████| 438M/438M [00:01<00:00, 360MB/s]\u001b[0m\n",
      "\u001b[34m#015tokenizer_config.json:   0%|          | 0.00/363 [00:00<?, ?B/s]#015tokenizer_config.json: 100%|██████████| 363/363 [00:00<00:00, 2.13MB/s]\u001b[0m\n",
      "\u001b[34m#015vocab.txt:   0%|          | 0.00/232k [00:00<?, ?B/s]#015vocab.txt: 100%|██████████| 232k/232k [00:00<00:00, 33.6MB/s]\u001b[0m\n",
      "\u001b[34m#015tokenizer.json:   0%|          | 0.00/466k [00:00<?, ?B/s]#015tokenizer.json: 100%|██████████| 466k/466k [00:00<00:00, 62.8MB/s]\u001b[0m\n",
      "\u001b[34m#015special_tokens_map.json:   0%|          | 0.00/239 [00:00<?, ?B/s]#015special_tokens_map.json: 100%|██████████| 239/239 [00:00<00:00, 1.72MB/s]\u001b[0m\n",
      "\u001b[34m#0151_Pooling/config.json:   0%|          | 0.00/190 [00:00<?, ?B/s]#0151_Pooling/config.json: 100%|██████████| 190/190 [00:00<00:00, 1.08MB/s]\u001b[0m\n",
      "\n"
     ]
    }
   ],
   "source": [
    "hfp.run(\n",
    "    code='preprocessing.py',\n",
    "    source_dir=\"data_preparation\",\n",
    "    inputs=[\n",
    "        ProcessingInput(source=s3_input, destination=\"/opt/ml/processing/input\")\n",
    "    ], \n",
    "    outputs=[\n",
    "        ProcessingOutput(source='/opt/ml/processing/output_clips', destination=s3_output_clips),\n",
    "        ProcessingOutput(source='/opt/ml/processing/transcripts', destination=s3_output_transcript),\n",
    "    ],\n",
    "    arguments=[\n",
    "        \"--whisper-model\", \"whisper-large-v2\",\n",
    "        \"--target-language\", \"en\",\n",
    "        \"--sentence-embedding-model\", \"all-mpnet-base-v2\",\n",
    "        \"--clips_s3uri\", s3_output_clips,\n",
    "        \"--transcripts_s3uri\", s3_output_transcript,\n",
    "        \"--order\", \"5\"\n",
    "    ]\n",
    ")"
   ]
  },
  {
   "cell_type": "code",
   "execution_count": 11,
   "id": "1c4073c6-19a6-4c5c-93eb-b66eb99eb676",
   "metadata": {
    "scrolled": true,
    "tags": []
   },
   "outputs": [
    {
     "name": "stdout",
     "output_type": "stream",
     "text": [
      "download: s3://sagemaker-us-east-1-822507008821/sagemaker/rag_video/transcript/genai_interview/0.txt to video-scripts/genai_interview/0.txt\n",
      "download: s3://sagemaker-us-east-1-822507008821/sagemaker/rag_video/transcript/genai_interview/5.txt to video-scripts/genai_interview/5.txt\n",
      "download: s3://sagemaker-us-east-1-822507008821/sagemaker/rag_video/transcript/genai_interview/1.txt to video-scripts/genai_interview/1.txt\n",
      "download: s3://sagemaker-us-east-1-822507008821/sagemaker/rag_video/transcript/genai_interview/2.txt to video-scripts/genai_interview/2.txt\n",
      "download: s3://sagemaker-us-east-1-822507008821/sagemaker/rag_video/transcript/genai_interview/4.txt to video-scripts/genai_interview/4.txt\n",
      "download: s3://sagemaker-us-east-1-822507008821/sagemaker/rag_video/transcript/genai_interview/6.txt to video-scripts/genai_interview/6.txt\n",
      "download: s3://sagemaker-us-east-1-822507008821/sagemaker/rag_video/transcript/genai_interview/genai_interview_0_20.24.txt to video-scripts/genai_interview/genai_interview_0_20.24.txt\n",
      "download: s3://sagemaker-us-east-1-822507008821/sagemaker/rag_video/transcript/genai_interview/8.txt to video-scripts/genai_interview/8.txt\n",
      "download: s3://sagemaker-us-east-1-822507008821/sagemaker/rag_video/transcript/genai_interview/9.txt to video-scripts/genai_interview/9.txt\n",
      "download: s3://sagemaker-us-east-1-822507008821/sagemaker/rag_video/transcript/genai_interview/7.txt to video-scripts/genai_interview/7.txt\n",
      "download: s3://sagemaker-us-east-1-822507008821/sagemaker/rag_video/transcript/genai_interview/3.txt to video-scripts/genai_interview/3.txt\n",
      "download: s3://sagemaker-us-east-1-822507008821/sagemaker/rag_video/transcript/genai_interview/genai_interview_115.44_213.8.txt to video-scripts/genai_interview/genai_interview_115.44_213.8.txt\n",
      "download: s3://sagemaker-us-east-1-822507008821/sagemaker/rag_video/transcript/genai_interview/genai_interview_213.8_345.1.txt to video-scripts/genai_interview/genai_interview_213.8_345.1.txt\n",
      "download: s3://sagemaker-us-east-1-822507008821/sagemaker/rag_video/transcript/genai_interview/genai_interview_518.12_550.0.txt to video-scripts/genai_interview/genai_interview_518.12_550.0.txt\n",
      "download: s3://sagemaker-us-east-1-822507008821/sagemaker/rag_video/transcript/genai_interview/genai_interview_905.2_1037.72.txt to video-scripts/genai_interview/genai_interview_905.2_1037.72.txt\n",
      "download: s3://sagemaker-us-east-1-822507008821/sagemaker/rag_video/transcript/genai_interview/genai_interview_20.24_115.44.txt to video-scripts/genai_interview/genai_interview_20.24_115.44.txt\n",
      "download: s3://sagemaker-us-east-1-822507008821/sagemaker/rag_video/transcript/genai_interview/genai_interview_345.1_518.12.txt to video-scripts/genai_interview/genai_interview_345.1_518.12.txt\n",
      "download: s3://sagemaker-us-east-1-822507008821/sagemaker/rag_video/transcript/genai_interview/genai_interview_550.0_656.4.txt to video-scripts/genai_interview/genai_interview_550.0_656.4.txt\n",
      "download: s3://sagemaker-us-east-1-822507008821/sagemaker/rag_video/transcript/genai_interview/genai_interview_656.4_788.0.txt to video-scripts/genai_interview/genai_interview_656.4_788.0.txt\n",
      "download: s3://sagemaker-us-east-1-822507008821/sagemaker/rag_video/transcript/genai_interview/metadata.json to video-scripts/genai_interview/metadata.json\n",
      "download: s3://sagemaker-us-east-1-822507008821/sagemaker/rag_video/transcript/metadata.json to video-scripts/metadata.json\n",
      "download: s3://sagemaker-us-east-1-822507008821/sagemaker/rag_video/transcript/genai_interview/genai_interview_788.0_905.2.txt to video-scripts/genai_interview/genai_interview_788.0_905.2.txt\n"
     ]
    }
   ],
   "source": [
    "!mkdir -p video-scripts\n",
    "!aws s3 sync $s3_output_transcript/ video-scripts"
   ]
  },
  {
   "cell_type": "markdown",
   "id": "8f83eb97-c39d-418f-ba0b-58799b17e444",
   "metadata": {},
   "source": [
    "## Summarization and Tagging on Chunking with LLM"
   ]
  },
  {
   "cell_type": "code",
   "execution_count": 12,
   "id": "3b694484-ac2e-4870-bdb9-de9a49435790",
   "metadata": {},
   "outputs": [
    {
     "name": "stderr",
     "output_type": "stream",
     "text": [
      "INFO:sagemaker.image_uris:Defaulting to only available Python version: py3\n"
     ]
    }
   ],
   "source": [
    "from sagemaker.sklearn.processing import SKLearnProcessor\n",
    "\n",
    "sklearn_processor = SKLearnProcessor(\n",
    "    framework_version='1.2-1',\n",
    "    role=get_execution_role(),\n",
    "    instance_type='ml.m5.xlarge',\n",
    "    instance_count=1,\n",
    "    #python_version=\"py310\",\n",
    "    base_job_name='summarization-bedrock',\n",
    ")"
   ]
  },
  {
   "cell_type": "code",
   "execution_count": 17,
   "id": "e1176153-d648-4ffc-a6df-b260bd9297d4",
   "metadata": {
    "scrolled": true,
    "tags": []
   },
   "outputs": [
    {
     "name": "stderr",
     "output_type": "stream",
     "text": [
      "INFO:sagemaker.processing:Uploaded summarization to s3://sagemaker-us-east-1-822507008821/frameworkprocessor-hf-2024-03-10-11-25-27-191/source/sourcedir.tar.gz\n",
      "INFO:sagemaker.processing:runproc.sh uploaded to s3://sagemaker-us-east-1-822507008821/frameworkprocessor-hf-2024-03-10-11-25-27-191/source/runproc.sh\n",
      "INFO:sagemaker:Creating processing-job with name frameworkprocessor-hf-2024-03-10-11-25-27-191\n"
     ]
    },
    {
     "name": "stdout",
     "output_type": "stream",
     "text": [
      ".........................................................\u001b[34mWARNING: Skipping typing as it is not installed.\u001b[0m\n",
      "\u001b[34mWARNING: Running pip as the 'root' user can result in broken permissions and conflicting behaviour with the system package manager. It is recommended to use a virtual environment instead: https://pip.pypa.io/warnings/venv\u001b[0m\n",
      "\u001b[34mCollecting langchain (from -r requirements.txt (line 1))\n",
      "  Downloading langchain-0.1.11-py3-none-any.whl.metadata (13 kB)\u001b[0m\n",
      "\u001b[34mCollecting unstructured (from -r requirements.txt (line 2))\n",
      "  Downloading unstructured-0.12.6-py3-none-any.whl.metadata (83 kB)\n",
      "     ━━━━━━━━━━━━━━━━━━━━━━━━━━━━━━━━━━━━━━━━ 83.2/83.2 kB 6.3 MB/s eta 0:00:00\u001b[0m\n",
      "\u001b[34mCollecting tiktoken (from -r requirements.txt (line 3))\n",
      "  Downloading tiktoken-0.6.0-cp310-cp310-manylinux_2_17_x86_64.manylinux2014_x86_64.whl.metadata (6.6 kB)\u001b[0m\n",
      "\u001b[34mCollecting anthropic (from -r requirements.txt (line 4))\n",
      "  Downloading anthropic-0.19.1-py3-none-any.whl.metadata (15 kB)\u001b[0m\n",
      "\u001b[34mRequirement already satisfied: PyYAML>=5.3 in /opt/conda/lib/python3.10/site-packages (from langchain->-r requirements.txt (line 1)) (6.0)\u001b[0m\n",
      "\u001b[34mCollecting SQLAlchemy<3,>=1.4 (from langchain->-r requirements.txt (line 1))\n",
      "  Downloading SQLAlchemy-2.0.28-cp310-cp310-manylinux_2_17_x86_64.manylinux2014_x86_64.whl.metadata (9.6 kB)\u001b[0m\n",
      "\u001b[34mRequirement already satisfied: aiohttp<4.0.0,>=3.8.3 in /opt/conda/lib/python3.10/site-packages (from langchain->-r requirements.txt (line 1)) (3.9.3)\u001b[0m\n",
      "\u001b[34mRequirement already satisfied: async-timeout<5.0.0,>=4.0.0 in /opt/conda/lib/python3.10/site-packages (from langchain->-r requirements.txt (line 1)) (4.0.3)\u001b[0m\n",
      "\u001b[34mCollecting dataclasses-json<0.7,>=0.5.7 (from langchain->-r requirements.txt (line 1))\n",
      "  Downloading dataclasses_json-0.6.4-py3-none-any.whl.metadata (25 kB)\u001b[0m\n",
      "\u001b[34mRequirement already satisfied: jsonpatch<2.0,>=1.33 in /opt/conda/lib/python3.10/site-packages (from langchain->-r requirements.txt (line 1)) (1.33)\u001b[0m\n",
      "\u001b[34mCollecting langchain-community<0.1,>=0.0.25 (from langchain->-r requirements.txt (line 1))\n",
      "  Downloading langchain_community-0.0.27-py3-none-any.whl.metadata (8.2 kB)\u001b[0m\n",
      "\u001b[34mCollecting langchain-core<0.2,>=0.1.29 (from langchain->-r requirements.txt (line 1))\n",
      "  Downloading langchain_core-0.1.30-py3-none-any.whl.metadata (6.0 kB)\u001b[0m\n",
      "\u001b[34mCollecting langchain-text-splitters<0.1,>=0.0.1 (from langchain->-r requirements.txt (line 1))\n",
      "  Downloading langchain_text_splitters-0.0.1-py3-none-any.whl.metadata (2.0 kB)\u001b[0m\n",
      "\u001b[34mCollecting langsmith<0.2.0,>=0.1.17 (from langchain->-r requirements.txt (line 1))\n",
      "  Downloading langsmith-0.1.23-py3-none-any.whl.metadata (13 kB)\u001b[0m\n",
      "\u001b[34mRequirement already satisfied: numpy<2,>=1 in /opt/conda/lib/python3.10/site-packages (from langchain->-r requirements.txt (line 1)) (1.24.4)\u001b[0m\n",
      "\u001b[34mRequirement already satisfied: pydantic<3,>=1 in /opt/conda/lib/python3.10/site-packages (from langchain->-r requirements.txt (line 1)) (1.10.11)\u001b[0m\n",
      "\u001b[34mRequirement already satisfied: requests<3,>=2 in /opt/conda/lib/python3.10/site-packages (from langchain->-r requirements.txt (line 1)) (2.31.0)\u001b[0m\n",
      "\u001b[34mRequirement already satisfied: tenacity<9.0.0,>=8.1.0 in /opt/conda/lib/python3.10/site-packages (from langchain->-r requirements.txt (line 1)) (8.2.2)\u001b[0m\n",
      "\u001b[34mCollecting backoff==2.2.1 (from unstructured->-r requirements.txt (line 2))\n",
      "  Downloading backoff-2.2.1-py3-none-any.whl.metadata (14 kB)\u001b[0m\n",
      "\u001b[34mCollecting beautifulsoup4==4.12.3 (from unstructured->-r requirements.txt (line 2))\n",
      "  Downloading beautifulsoup4-4.12.3-py3-none-any.whl.metadata (3.8 kB)\u001b[0m\n",
      "\u001b[34mRequirement already satisfied: certifi==2024.2.2 in /opt/conda/lib/python3.10/site-packages (from unstructured->-r requirements.txt (line 2)) (2024.2.2)\u001b[0m\n",
      "\u001b[34mCollecting chardet==5.2.0 (from unstructured->-r requirements.txt (line 2))\n",
      "  Downloading chardet-5.2.0-py3-none-any.whl.metadata (3.4 kB)\u001b[0m\n",
      "\u001b[34mCollecting charset-normalizer==3.3.2 (from unstructured->-r requirements.txt (line 2))\n",
      "  Downloading charset_normalizer-3.3.2-cp310-cp310-manylinux_2_17_x86_64.manylinux2014_x86_64.whl.metadata (33 kB)\u001b[0m\n",
      "\u001b[34mCollecting click==8.1.7 (from unstructured->-r requirements.txt (line 2))\n",
      "  Downloading click-8.1.7-py3-none-any.whl.metadata (3.0 kB)\u001b[0m\n",
      "\u001b[34mCollecting dataclasses-json-speakeasy==0.5.11 (from unstructured->-r requirements.txt (line 2))\n",
      "  Downloading dataclasses_json_speakeasy-0.5.11-py3-none-any.whl.metadata (25 kB)\u001b[0m\n",
      "\u001b[34mCollecting emoji==2.10.1 (from unstructured->-r requirements.txt (line 2))\n",
      "  Downloading emoji-2.10.1-py2.py3-none-any.whl.metadata (5.3 kB)\u001b[0m\n",
      "\u001b[34mCollecting filetype==1.2.0 (from unstructured->-r requirements.txt (line 2))\n",
      "  Downloading filetype-1.2.0-py2.py3-none-any.whl.metadata (6.5 kB)\u001b[0m\n",
      "\u001b[34mCollecting idna==3.6 (from unstructured->-r requirements.txt (line 2))\n",
      "  Downloading idna-3.6-py3-none-any.whl.metadata (9.9 kB)\u001b[0m\n",
      "\u001b[34mCollecting joblib==1.3.2 (from unstructured->-r requirements.txt (line 2))\n",
      "  Downloading joblib-1.3.2-py3-none-any.whl.metadata (5.4 kB)\u001b[0m\n",
      "\u001b[34mCollecting jsonpath-python==1.0.6 (from unstructured->-r requirements.txt (line 2))\n",
      "  Downloading jsonpath_python-1.0.6-py3-none-any.whl.metadata (12 kB)\u001b[0m\n",
      "\u001b[34mCollecting langdetect==1.0.9 (from unstructured->-r requirements.txt (line 2))\n",
      "  Downloading langdetect-1.0.9.tar.gz (981 kB)\n",
      "     ━━━━━━━━━━━━━━━━━━━━━━━━━━━━━━━━━━━━━━ 981.5/981.5 kB 40.8 MB/s eta 0:00:00\n",
      "  Preparing metadata (setup.py): started\n",
      "  Preparing metadata (setup.py): finished with status 'done'\u001b[0m\n",
      "\u001b[34mRequirement already satisfied: lxml==5.1.0 in /opt/conda/lib/python3.10/site-packages (from unstructured->-r requirements.txt (line 2)) (5.1.0)\u001b[0m\n",
      "\u001b[34mCollecting marshmallow==3.20.2 (from unstructured->-r requirements.txt (line 2))\n",
      "  Downloading marshmallow-3.20.2-py3-none-any.whl.metadata (7.5 kB)\u001b[0m\n",
      "\u001b[34mCollecting mypy-extensions==1.0.0 (from unstructured->-r requirements.txt (line 2))\n",
      "  Downloading mypy_extensions-1.0.0-py3-none-any.whl.metadata (1.1 kB)\u001b[0m\n",
      "\u001b[34mCollecting nltk==3.8.1 (from unstructured->-r requirements.txt (line 2))\n",
      "  Downloading nltk-3.8.1-py3-none-any.whl.metadata (2.8 kB)\u001b[0m\n",
      "\u001b[34mCollecting numpy<2,>=1 (from langchain->-r requirements.txt (line 1))\n",
      "  Downloading numpy-1.26.4-cp310-cp310-manylinux_2_17_x86_64.manylinux2014_x86_64.whl.metadata (61 kB)\n",
      "     ━━━━━━━━━━━━━━━━━━━━━━━━━━━━━━━━━━━━━━━━ 61.0/61.0 kB 6.7 MB/s eta 0:00:00\u001b[0m\n",
      "\u001b[34mCollecting packaging==23.2 (from unstructured->-r requirements.txt (line 2))\n",
      "  Downloading packaging-23.2-py3-none-any.whl.metadata (3.2 kB)\u001b[0m\n",
      "\u001b[34mRequirement already satisfied: python-dateutil==2.8.2 in /opt/conda/lib/python3.10/site-packages (from unstructured->-r requirements.txt (line 2)) (2.8.2)\u001b[0m\n",
      "\u001b[34mCollecting python-iso639==2024.2.7 (from unstructured->-r requirements.txt (line 2))\n",
      "  Downloading python_iso639-2024.2.7-py3-none-any.whl.metadata (13 kB)\u001b[0m\n",
      "\u001b[34mCollecting python-magic==0.4.27 (from unstructured->-r requirements.txt (line 2))\n",
      "  Downloading python_magic-0.4.27-py2.py3-none-any.whl.metadata (5.8 kB)\u001b[0m\n",
      "\u001b[34mCollecting rapidfuzz==3.6.1 (from unstructured->-r requirements.txt (line 2))\n",
      "  Downloading rapidfuzz-3.6.1-cp310-cp310-manylinux_2_17_x86_64.manylinux2014_x86_64.whl.metadata (11 kB)\u001b[0m\n",
      "\u001b[34mRequirement already satisfied: regex==2023.12.25 in /opt/conda/lib/python3.10/site-packages (from unstructured->-r requirements.txt (line 2)) (2023.12.25)\u001b[0m\n",
      "\u001b[34mRequirement already satisfied: six==1.16.0 in /opt/conda/lib/python3.10/site-packages (from unstructured->-r requirements.txt (line 2)) (1.16.0)\u001b[0m\n",
      "\u001b[34mCollecting soupsieve==2.5 (from unstructured->-r requirements.txt (line 2))\n",
      "  Downloading soupsieve-2.5-py3-none-any.whl.metadata (4.7 kB)\u001b[0m\n",
      "\u001b[34mRequirement already satisfied: tabulate==0.9.0 in /opt/conda/lib/python3.10/site-packages (from unstructured->-r requirements.txt (line 2)) (0.9.0)\u001b[0m\n",
      "\u001b[34mCollecting tqdm==4.66.2 (from unstructured->-r requirements.txt (line 2))\n",
      "  Downloading tqdm-4.66.2-py3-none-any.whl.metadata (57 kB)\n",
      "     ━━━━━━━━━━━━━━━━━━━━━━━━━━━━━━━━━━━━━━━━ 57.6/57.6 kB 6.9 MB/s eta 0:00:00\u001b[0m\n",
      "\u001b[34mCollecting typing-extensions==4.9.0 (from unstructured->-r requirements.txt (line 2))\n",
      "  Downloading typing_extensions-4.9.0-py3-none-any.whl.metadata (3.0 kB)\u001b[0m\n",
      "\u001b[34mCollecting typing-inspect==0.9.0 (from unstructured->-r requirements.txt (line 2))\n",
      "  Downloading typing_inspect-0.9.0-py3-none-any.whl.metadata (1.5 kB)\u001b[0m\n",
      "\u001b[34mCollecting unstructured-client==0.18.0 (from unstructured->-r requirements.txt (line 2))\n",
      "  Downloading unstructured_client-0.18.0-py3-none-any.whl.metadata (4.9 kB)\u001b[0m\n",
      "\u001b[34mCollecting urllib3==1.26.18 (from unstructured->-r requirements.txt (line 2))\n",
      "  Downloading urllib3-1.26.18-py2.py3-none-any.whl.metadata (48 kB)\n",
      "     ━━━━━━━━━━━━━━━━━━━━━━━━━━━━━━━━━━━━━━━━ 48.9/48.9 kB 5.8 MB/s eta 0:00:00\u001b[0m\n",
      "\u001b[34mCollecting wrapt==1.16.0 (from unstructured->-r requirements.txt (line 2))\n",
      "  Downloading wrapt-1.16.0-cp310-cp310-manylinux_2_5_x86_64.manylinux1_x86_64.manylinux_2_17_x86_64.manylinux2014_x86_64.whl.metadata (6.6 kB)\u001b[0m\n",
      "\u001b[34mCollecting anyio<5,>=3.5.0 (from anthropic->-r requirements.txt (line 4))\n",
      "  Downloading anyio-4.3.0-py3-none-any.whl.metadata (4.6 kB)\u001b[0m\n",
      "\u001b[34mCollecting distro<2,>=1.7.0 (from anthropic->-r requirements.txt (line 4))\n",
      "  Downloading distro-1.9.0-py3-none-any.whl.metadata (6.8 kB)\u001b[0m\n",
      "\u001b[34mCollecting httpx<1,>=0.23.0 (from anthropic->-r requirements.txt (line 4))\n",
      "  Downloading httpx-0.27.0-py3-none-any.whl.metadata (7.2 kB)\u001b[0m\n",
      "\u001b[34mCollecting sniffio (from anthropic->-r requirements.txt (line 4))\n",
      "  Downloading sniffio-1.3.1-py3-none-any.whl.metadata (3.9 kB)\u001b[0m\n",
      "\u001b[34mRequirement already satisfied: tokenizers>=0.13.0 in /opt/conda/lib/python3.10/site-packages (from anthropic->-r requirements.txt (line 4)) (0.13.3)\u001b[0m\n",
      "\u001b[34mRequirement already satisfied: aiosignal>=1.1.2 in /opt/conda/lib/python3.10/site-packages (from aiohttp<4.0.0,>=3.8.3->langchain->-r requirements.txt (line 1)) (1.3.1)\u001b[0m\n",
      "\u001b[34mRequirement already satisfied: attrs>=17.3.0 in /opt/conda/lib/python3.10/site-packages (from aiohttp<4.0.0,>=3.8.3->langchain->-r requirements.txt (line 1)) (23.1.0)\u001b[0m\n",
      "\u001b[34mRequirement already satisfied: frozenlist>=1.1.1 in /opt/conda/lib/python3.10/site-packages (from aiohttp<4.0.0,>=3.8.3->langchain->-r requirements.txt (line 1)) (1.4.1)\u001b[0m\n",
      "\u001b[34mRequirement already satisfied: multidict<7.0,>=4.5 in /opt/conda/lib/python3.10/site-packages (from aiohttp<4.0.0,>=3.8.3->langchain->-r requirements.txt (line 1)) (6.0.5)\u001b[0m\n",
      "\u001b[34mRequirement already satisfied: yarl<2.0,>=1.0 in /opt/conda/lib/python3.10/site-packages (from aiohttp<4.0.0,>=3.8.3->langchain->-r requirements.txt (line 1)) (1.9.4)\u001b[0m\n",
      "\u001b[34mRequirement already satisfied: exceptiongroup>=1.0.2 in /opt/conda/lib/python3.10/site-packages (from anyio<5,>=3.5.0->anthropic->-r requirements.txt (line 4)) (1.2.0)\u001b[0m\n",
      "\u001b[34mCollecting httpcore==1.* (from httpx<1,>=0.23.0->anthropic->-r requirements.txt (line 4))\n",
      "  Downloading httpcore-1.0.4-py3-none-any.whl.metadata (20 kB)\u001b[0m\n",
      "\u001b[34mCollecting h11<0.15,>=0.13 (from httpcore==1.*->httpx<1,>=0.23.0->anthropic->-r requirements.txt (line 4))\n",
      "  Downloading h11-0.14.0-py3-none-any.whl.metadata (8.2 kB)\u001b[0m\n",
      "\u001b[34mRequirement already satisfied: jsonpointer>=1.9 in /opt/conda/lib/python3.10/site-packages (from jsonpatch<2.0,>=1.33->langchain->-r requirements.txt (line 1)) (2.4)\u001b[0m\n",
      "\u001b[34mCollecting orjson<4.0.0,>=3.9.14 (from langsmith<0.2.0,>=0.1.17->langchain->-r requirements.txt (line 1))\n",
      "  Downloading orjson-3.9.15-cp310-cp310-manylinux_2_17_x86_64.manylinux2014_x86_64.whl.metadata (49 kB)\n",
      "     ━━━━━━━━━━━━━━━━━━━━━━━━━━━━━━━━━━━━━━━━ 49.5/49.5 kB 5.7 MB/s eta 0:00:00\u001b[0m\n",
      "\u001b[34mRequirement already satisfied: greenlet!=0.4.17 in /opt/conda/lib/python3.10/site-packages (from SQLAlchemy<3,>=1.4->langchain->-r requirements.txt (line 1)) (2.0.2)\u001b[0m\n",
      "\u001b[34mDownloading langchain-0.1.11-py3-none-any.whl (807 kB)\n",
      "   ━━━━━━━━━━━━━━━━━━━━━━━━━━━━━━━━━━━━━━━━ 807.5/807.5 kB 42.8 MB/s eta 0:00:00\u001b[0m\n",
      "\u001b[34mDownloading unstructured-0.12.6-py3-none-any.whl (1.8 MB)\n",
      "   ━━━━━━━━━━━━━━━━━━━━━━━━━━━━━━━━━━━━━━━━ 1.8/1.8 MB 49.1 MB/s eta 0:00:00\u001b[0m\n",
      "\u001b[34mDownloading backoff-2.2.1-py3-none-any.whl (15 kB)\u001b[0m\n",
      "\u001b[34mDownloading beautifulsoup4-4.12.3-py3-none-any.whl (147 kB)\n",
      "   ━━━━━━━━━━━━━━━━━━━━━━━━━━━━━━━━━━━━━━━━ 147.9/147.9 kB 15.4 MB/s eta 0:00:00\u001b[0m\n",
      "\u001b[34mDownloading chardet-5.2.0-py3-none-any.whl (199 kB)\n",
      "   ━━━━━━━━━━━━━━━━━━━━━━━━━━━━━━━━━━━━━━━━ 199.4/199.4 kB 19.3 MB/s eta 0:00:00\u001b[0m\n",
      "\u001b[34mDownloading charset_normalizer-3.3.2-cp310-cp310-manylinux_2_17_x86_64.manylinux2014_x86_64.whl (142 kB)\n",
      "   ━━━━━━━━━━━━━━━━━━━━━━━━━━━━━━━━━━━━━━━━ 142.1/142.1 kB 13.9 MB/s eta 0:00:00\u001b[0m\n",
      "\u001b[34mDownloading click-8.1.7-py3-none-any.whl (97 kB)\n",
      "   ━━━━━━━━━━━━━━━━━━━━━━━━━━━━━━━━━━━━━━━━ 97.9/97.9 kB 11.7 MB/s eta 0:00:00\u001b[0m\n",
      "\u001b[34mDownloading dataclasses_json-0.6.4-py3-none-any.whl (28 kB)\u001b[0m\n",
      "\u001b[34mDownloading dataclasses_json_speakeasy-0.5.11-py3-none-any.whl (28 kB)\u001b[0m\n",
      "\u001b[34mDownloading emoji-2.10.1-py2.py3-none-any.whl (421 kB)\n",
      "   ━━━━━━━━━━━━━━━━━━━━━━━━━━━━━━━━━━━━━━━━ 421.5/421.5 kB 29.2 MB/s eta 0:00:00\u001b[0m\n",
      "\u001b[34mDownloading filetype-1.2.0-py2.py3-none-any.whl (19 kB)\u001b[0m\n",
      "\u001b[34mDownloading idna-3.6-py3-none-any.whl (61 kB)\n",
      "   ━━━━━━━━━━━━━━━━━━━━━━━━━━━━━━━━━━━━━━━━ 61.6/61.6 kB 6.1 MB/s eta 0:00:00\u001b[0m\n",
      "\u001b[34mDownloading joblib-1.3.2-py3-none-any.whl (302 kB)\n",
      "   ━━━━━━━━━━━━━━━━━━━━━━━━━━━━━━━━━━━━━━━━ 302.2/302.2 kB 24.4 MB/s eta 0:00:00\u001b[0m\n",
      "\u001b[34mDownloading jsonpath_python-1.0.6-py3-none-any.whl (7.6 kB)\u001b[0m\n",
      "\u001b[34mDownloading marshmallow-3.20.2-py3-none-any.whl (49 kB)\n",
      "   ━━━━━━━━━━━━━━━━━━━━━━━━━━━━━━━━━━━━━━━━ 49.4/49.4 kB 5.1 MB/s eta 0:00:00\u001b[0m\n",
      "\u001b[34mDownloading mypy_extensions-1.0.0-py3-none-any.whl (4.7 kB)\u001b[0m\n",
      "\u001b[34mDownloading nltk-3.8.1-py3-none-any.whl (1.5 MB)\n",
      "   ━━━━━━━━━━━━━━━━━━━━━━━━━━━━━━━━━━━━━━━━ 1.5/1.5 MB 56.7 MB/s eta 0:00:00\u001b[0m\n",
      "\u001b[34mDownloading numpy-1.26.4-cp310-cp310-manylinux_2_17_x86_64.manylinux2014_x86_64.whl (18.2 MB)\n",
      "   ━━━━━━━━━━━━━━━━━━━━━━━━━━━━━━━━━━━━━━━━ 18.2/18.2 MB 71.0 MB/s eta 0:00:00\u001b[0m\n",
      "\u001b[34mDownloading packaging-23.2-py3-none-any.whl (53 kB)\n",
      "   ━━━━━━━━━━━━━━━━━━━━━━━━━━━━━━━━━━━━━━━━ 53.0/53.0 kB 5.0 MB/s eta 0:00:00\u001b[0m\n",
      "\u001b[34mDownloading python_iso639-2024.2.7-py3-none-any.whl (274 kB)\n",
      "   ━━━━━━━━━━━━━━━━━━━━━━━━━━━━━━━━━━━━━━━━ 274.7/274.7 kB 26.7 MB/s eta 0:00:00\u001b[0m\n",
      "\u001b[34mDownloading python_magic-0.4.27-py2.py3-none-any.whl (13 kB)\u001b[0m\n",
      "\u001b[34mDownloading rapidfuzz-3.6.1-cp310-cp310-manylinux_2_17_x86_64.manylinux2014_x86_64.whl (3.4 MB)\n",
      "   ━━━━━━━━━━━━━━━━━━━━━━━━━━━━━━━━━━━━━━━━ 3.4/3.4 MB 73.5 MB/s eta 0:00:00\u001b[0m\n",
      "\u001b[34mDownloading soupsieve-2.5-py3-none-any.whl (36 kB)\u001b[0m\n",
      "\u001b[34mDownloading tqdm-4.66.2-py3-none-any.whl (78 kB)\n",
      "   ━━━━━━━━━━━━━━━━━━━━━━━━━━━━━━━━━━━━━━━━ 78.3/78.3 kB 9.9 MB/s eta 0:00:00\u001b[0m\n",
      "\u001b[34mDownloading typing_extensions-4.9.0-py3-none-any.whl (32 kB)\u001b[0m\n",
      "\u001b[34mDownloading typing_inspect-0.9.0-py3-none-any.whl (8.8 kB)\u001b[0m\n",
      "\u001b[34mDownloading unstructured_client-0.18.0-py3-none-any.whl (21 kB)\u001b[0m\n",
      "\u001b[34mDownloading urllib3-1.26.18-py2.py3-none-any.whl (143 kB)\n",
      "   ━━━━━━━━━━━━━━━━━━━━━━━━━━━━━━━━━━━━━━━━ 143.8/143.8 kB 15.2 MB/s eta 0:00:00\u001b[0m\n",
      "\u001b[34mDownloading wrapt-1.16.0-cp310-cp310-manylinux_2_5_x86_64.manylinux1_x86_64.manylinux_2_17_x86_64.manylinux2014_x86_64.whl (80 kB)\n",
      "   ━━━━━━━━━━━━━━━━━━━━━━━━━━━━━━━━━━━━━━━━ 80.3/80.3 kB 9.3 MB/s eta 0:00:00\u001b[0m\n",
      "\u001b[34mDownloading tiktoken-0.6.0-cp310-cp310-manylinux_2_17_x86_64.manylinux2014_x86_64.whl (1.8 MB)\n",
      "   ━━━━━━━━━━━━━━━━━━━━━━━━━━━━━━━━━━━━━━━━ 1.8/1.8 MB 65.0 MB/s eta 0:00:00\u001b[0m\n",
      "\u001b[34mDownloading anthropic-0.19.1-py3-none-any.whl (848 kB)\n",
      "   ━━━━━━━━━━━━━━━━━━━━━━━━━━━━━━━━━━━━━━━━ 848.6/848.6 kB 50.8 MB/s eta 0:00:00\u001b[0m\n",
      "\u001b[34mDownloading anyio-4.3.0-py3-none-any.whl (85 kB)\n",
      "   ━━━━━━━━━━━━━━━━━━━━━━━━━━━━━━━━━━━━━━━━ 85.6/85.6 kB 10.4 MB/s eta 0:00:00\u001b[0m\n",
      "\u001b[34mDownloading distro-1.9.0-py3-none-any.whl (20 kB)\u001b[0m\n",
      "\u001b[34mDownloading httpx-0.27.0-py3-none-any.whl (75 kB)\n",
      "   ━━━━━━━━━━━━━━━━━━━━━━━━━━━━━━━━━━━━━━━━ 75.6/75.6 kB 10.1 MB/s eta 0:00:00\u001b[0m\n",
      "\u001b[34mDownloading httpcore-1.0.4-py3-none-any.whl (77 kB)\n",
      "   ━━━━━━━━━━━━━━━━━━━━━━━━━━━━━━━━━━━━━━━━ 77.8/77.8 kB 9.8 MB/s eta 0:00:00\u001b[0m\n",
      "\u001b[34mDownloading langchain_community-0.0.27-py3-none-any.whl (1.8 MB)\u001b[0m\n",
      "\u001b[34m   ━━━━━━━━━━━━━━━━━━━━━━━━━━━━━━━━━━━━━━━━ 1.8/1.8 MB 62.9 MB/s eta 0:00:00\u001b[0m\n",
      "\u001b[34mDownloading langchain_core-0.1.30-py3-none-any.whl (256 kB)\n",
      "   ━━━━━━━━━━━━━━━━━━━━━━━━━━━━━━━━━━━━━━━━ 256.9/256.9 kB 28.0 MB/s eta 0:00:00\u001b[0m\n",
      "\u001b[34mDownloading langchain_text_splitters-0.0.1-py3-none-any.whl (21 kB)\u001b[0m\n",
      "\u001b[34mDownloading langsmith-0.1.23-py3-none-any.whl (66 kB)\n",
      "   ━━━━━━━━━━━━━━━━━━━━━━━━━━━━━━━━━━━━━━━━ 66.6/66.6 kB 8.9 MB/s eta 0:00:00\u001b[0m\n",
      "\u001b[34mDownloading sniffio-1.3.1-py3-none-any.whl (10 kB)\u001b[0m\n",
      "\u001b[34mDownloading SQLAlchemy-2.0.28-cp310-cp310-manylinux_2_17_x86_64.manylinux2014_x86_64.whl (3.1 MB)\n",
      "   ━━━━━━━━━━━━━━━━━━━━━━━━━━━━━━━━━━━━━━━━ 3.1/3.1 MB 77.4 MB/s eta 0:00:00\u001b[0m\n",
      "\u001b[34mDownloading orjson-3.9.15-cp310-cp310-manylinux_2_17_x86_64.manylinux2014_x86_64.whl (138 kB)\n",
      "   ━━━━━━━━━━━━━━━━━━━━━━━━━━━━━━━━━━━━━━━━ 138.5/138.5 kB 15.1 MB/s eta 0:00:00\u001b[0m\n",
      "\u001b[34mDownloading h11-0.14.0-py3-none-any.whl (58 kB)\n",
      "   ━━━━━━━━━━━━━━━━━━━━━━━━━━━━━━━━━━━━━━━━ 58.3/58.3 kB 7.1 MB/s eta 0:00:00\u001b[0m\n",
      "\u001b[34mBuilding wheels for collected packages: langdetect\n",
      "  Building wheel for langdetect (setup.py): started\u001b[0m\n",
      "\u001b[34m  Building wheel for langdetect (setup.py): finished with status 'done'\n",
      "  Created wheel for langdetect: filename=langdetect-1.0.9-py3-none-any.whl size=993224 sha256=4a7ab799ff907dcf6939886537b251c02e1e0a514ec5fd8e182365dd93088f38\n",
      "  Stored in directory: /root/.cache/pip/wheels/95/03/7d/59ea870c70ce4e5a370638b5462a7711ab78fba2f655d05106\u001b[0m\n",
      "\u001b[34mSuccessfully built langdetect\u001b[0m\n",
      "\u001b[34mInstalling collected packages: filetype, wrapt, urllib3, typing-extensions, tqdm, soupsieve, sniffio, rapidfuzz, python-magic, python-iso639, packaging, orjson, numpy, mypy-extensions, langdetect, jsonpath-python, joblib, idna, h11, emoji, distro, click, charset-normalizer, chardet, backoff, typing-inspect, SQLAlchemy, nltk, marshmallow, httpcore, beautifulsoup4, anyio, tiktoken, langsmith, httpx, dataclasses-json-speakeasy, dataclasses-json, unstructured-client, langchain-core, anthropic, unstructured, langchain-text-splitters, langchain-community, langchain\n",
      "  Attempting uninstall: urllib3\n",
      "    Found existing installation: urllib3 1.26.15\n",
      "    Uninstalling urllib3-1.26.15:\n",
      "      Successfully uninstalled urllib3-1.26.15\n",
      "  Attempting uninstall: typing-extensions\n",
      "    Found existing installation: typing_extensions 4.7.1\n",
      "    Uninstalling typing_extensions-4.7.1:\n",
      "      Successfully uninstalled typing_extensions-4.7.1\u001b[0m\n",
      "\u001b[34m  Attempting uninstall: tqdm\n",
      "    Found existing installation: tqdm 4.65.0\n",
      "    Uninstalling tqdm-4.65.0:\n",
      "      Successfully uninstalled tqdm-4.65.0\n",
      "  Attempting uninstall: packaging\n",
      "    Found existing installation: packaging 23.1\n",
      "    Uninstalling packaging-23.1:\n",
      "      Successfully uninstalled packaging-23.1\n",
      "  Attempting uninstall: numpy\n",
      "    Found existing installation: numpy 1.24.4\n",
      "    Uninstalling numpy-1.24.4:\n",
      "      Successfully uninstalled numpy-1.24.4\u001b[0m\n",
      "\u001b[34m  Attempting uninstall: joblib\n",
      "    Found existing installation: joblib 1.3.0\n",
      "    Uninstalling joblib-1.3.0:\n",
      "      Successfully uninstalled joblib-1.3.0\n",
      "  Attempting uninstall: idna\n",
      "    Found existing installation: idna 3.4\n",
      "    Uninstalling idna-3.4:\n",
      "      Successfully uninstalled idna-3.4\n",
      "  Attempting uninstall: click\n",
      "    Found existing installation: click 8.1.4\n",
      "    Uninstalling click-8.1.4:\n",
      "      Successfully uninstalled click-8.1.4\n",
      "  Attempting uninstall: charset-normalizer\n",
      "    Found existing installation: charset-normalizer 3.1.0\n",
      "    Uninstalling charset-normalizer-3.1.0:\n",
      "      Successfully uninstalled charset-normalizer-3.1.0\u001b[0m\n",
      "\u001b[34mERROR: pip's dependency resolver does not currently take into account all the packages that are installed. This behaviour is the source of the following dependency conflicts.\u001b[0m\n",
      "\u001b[34mnumba 0.57.1 requires numpy<1.25,>=1.21, but you have numpy 1.26.4 which is incompatible.\u001b[0m\n",
      "\u001b[34mSuccessfully installed SQLAlchemy-2.0.28 anthropic-0.19.1 anyio-4.3.0 backoff-2.2.1 beautifulsoup4-4.12.3 chardet-5.2.0 charset-normalizer-3.3.2 click-8.1.7 dataclasses-json-0.6.4 dataclasses-json-speakeasy-0.5.11 distro-1.9.0 emoji-2.10.1 filetype-1.2.0 h11-0.14.0 httpcore-1.0.4 httpx-0.27.0 idna-3.6 joblib-1.3.2 jsonpath-python-1.0.6 langchain-0.1.11 langchain-community-0.0.27 langchain-core-0.1.30 langchain-text-splitters-0.0.1 langdetect-1.0.9 langsmith-0.1.23 marshmallow-3.20.2 mypy-extensions-1.0.0 nltk-3.8.1 numpy-1.26.4 orjson-3.9.15 packaging-23.2 python-iso639-2024.2.7 python-magic-0.4.27 rapidfuzz-3.6.1 sniffio-1.3.1 soupsieve-2.5 tiktoken-0.6.0 tqdm-4.66.2 typing-extensions-4.9.0 typing-inspect-0.9.0 unstructured-0.12.6 unstructured-client-0.18.0 urllib3-1.26.18 wrapt-1.16.0\u001b[0m\n",
      "\u001b[34mWARNING: Running pip as the 'root' user can result in broken permissions and conflicting behaviour with the system package manager. It is recommended to use a virtual environment instead: https://pip.pypa.io/warnings/venv\u001b[0m\n",
      "\u001b[34m[notice] A new release of pip is available: 23.3.2 -> 24.0\u001b[0m\n",
      "\u001b[34m[notice] To update, run: pip install --upgrade pip\u001b[0m\n",
      "\u001b[34m/opt/conda/lib/python3.10/site-packages/langchain/llms/__init__.py:548: LangChainDeprecationWarning: Importing LLMs from langchain is deprecated. Importing from langchain will no longer be supported as of langchain==0.2.0. Please import from langchain-community instead:\u001b[0m\n",
      "\u001b[34m`from langchain_community.llms import Bedrock`.\u001b[0m\n",
      "\u001b[34mTo install langchain-community run `pip install -U langchain-community`.\n",
      "  warnings.warn(\u001b[0m\n",
      "\u001b[34mProcessing ... genai_interview\u001b[0m\n",
      "\u001b[34m[nltk_data] Downloading package punkt to /root/nltk_data...\u001b[0m\n",
      "\u001b[34m[nltk_data]   Unzipping tokenizers/punkt.zip.\u001b[0m\n",
      "\u001b[34m[nltk_data] Downloading package averaged_perceptron_tagger to\u001b[0m\n",
      "\u001b[34m[nltk_data]     /root/nltk_data...\u001b[0m\n",
      "\u001b[34m[nltk_data]   Unzipping taggers/averaged_perceptron_tagger.zip.\u001b[0m\n",
      "\u001b[34m/opt/conda/lib/python3.10/site-packages/langchain_core/_api/deprecation.py:117: LangChainDeprecationWarning: The function `run` was deprecated in LangChain 0.1.0 and will be removed in 0.2.0. Use invoke instead.\n",
      "  warn_deprecated(\u001b[0m\n",
      "\n"
     ]
    }
   ],
   "source": [
    "summary_s3uri = f\"s3://{bucket}/{prefix}/summaries\"\n",
    "\n",
    "hfp.run(\n",
    "    code='summarization.py',\n",
    "    source_dir=\"summarization\",\n",
    "    inputs=[\n",
    "        ProcessingInput(source=s3_output_transcript, destination=\"/opt/ml/processing/input/transcripts/\")\n",
    "    ], \n",
    "    outputs=[\n",
    "        ProcessingOutput(source='/opt/ml/processing/summaries', destination=summary_s3uri),\n",
    "    ],\n",
    "    arguments=[\n",
    "        \"--model-id\", \"anthropic.claude-v2:1\"\n",
    "    ]\n",
    ")"
   ]
  },
  {
   "cell_type": "code",
   "execution_count": 18,
   "id": "ae43dc3e-f6b5-4ede-9ba5-c1be54931a8b",
   "metadata": {
    "tags": []
   },
   "outputs": [
    {
     "name": "stdout",
     "output_type": "stream",
     "text": [
      "2024-03-10 11:40:22      17570 metadata.json\n"
     ]
    }
   ],
   "source": [
    "!aws s3 ls $summary_s3uri/"
   ]
  },
  {
   "cell_type": "code",
   "execution_count": 19,
   "id": "aa6a4953-14d1-4e32-9c57-683016bd26b7",
   "metadata": {
    "tags": []
   },
   "outputs": [
    {
     "name": "stdout",
     "output_type": "stream",
     "text": [
      "download: s3://sagemaker-us-east-1-822507008821/sagemaker/rag_video/summaries/metadata.json to ./metadata.json\n"
     ]
    }
   ],
   "source": [
    "!aws s3 cp $summary_s3uri/metadata.json ."
   ]
  },
  {
   "cell_type": "markdown",
   "id": "1efea032-76d4-478c-943a-a4be59d47ea7",
   "metadata": {},
   "source": [
    "## Deploy Whipser model to SageMaker for real-time inference"
   ]
  },
  {
   "cell_type": "code",
   "execution_count": null,
   "id": "0ed73b43-b5c7-4e1a-bd15-8e020cab8f51",
   "metadata": {
    "tags": []
   },
   "outputs": [],
   "source": [
    "endpoint_name=\"whisper-large-v2\"\n",
    "# Hub Model configuration. https://huggingface.co/models\n",
    "hub = {\n",
    "    'HF_MODEL_ID':'openai/whisper-large-v2',\n",
    "    'HF_TASK':'automatic-speech-recognition',\n",
    "}\n",
    "\n",
    "# create Hugging Face Model Class\n",
    "huggingface_model = HuggingFaceModel(\n",
    "    transformers_version='4.26.0',\n",
    "    pytorch_version='1.13.1',\n",
    "    py_version='py39',\n",
    "    \n",
    "    env=hub,\n",
    "    role=role\n",
    ")"
   ]
  },
  {
   "cell_type": "code",
   "execution_count": null,
   "id": "3d00b59f-c17c-4446-a900-55e2835c5625",
   "metadata": {
    "tags": []
   },
   "outputs": [],
   "source": [
    "# deploy model to SageMaker Inference\n",
    "predictor = huggingface_model.deploy(\n",
    "    endpoint_name=endpoint_name,\n",
    "    initial_instance_count=1, # number of instances\n",
    "    instance_type='ml.g5.xlarge' # ec2 instance type\n",
    ")"
   ]
  },
  {
   "cell_type": "code",
   "execution_count": null,
   "id": "9cf3d59a-0ccf-4baf-95d9-a292c43872dc",
   "metadata": {
    "tags": []
   },
   "outputs": [],
   "source": [
    "client = boto3.client('runtime.sagemaker')\n",
    "file = \"test_raw_data/test.webm\"\n",
    "with open(file, \"rb\") as f:\n",
    "    data = f.read()"
   ]
  },
  {
   "cell_type": "code",
   "execution_count": null,
   "id": "e8e8d3ec-15a3-4e5f-b85b-19dd5ce98dd1",
   "metadata": {
    "tags": []
   },
   "outputs": [],
   "source": [
    "response = client.invoke_endpoint(EndpointName=endpoint_name, ContentType='audio/x-audio', Body=data)\n",
    "output = json.loads(response['Body'].read())\n",
    "print(f\"Extracted text from the audio file:\\n {output['text']}\")"
   ]
  },
  {
   "cell_type": "markdown",
   "id": "959e9aac-7690-478e-a703-9e9d433f9fb0",
   "metadata": {
    "tags": []
   },
   "source": [
    "You can follow section for `Example - Build a multi-functional chatbot with Amazon SageMaker` in [REAMDE](./README.md) to build a multi-functional chatbot with whipser endpoint.\n",
    "<span style=\"color: red\">Please delete endpoint once you don't it.</span>"
   ]
  },
  {
   "cell_type": "code",
   "execution_count": null,
   "id": "f23df075-6f8b-42f7-994c-b8510d87c3dd",
   "metadata": {
    "tags": []
   },
   "outputs": [],
   "source": [
    "predictor.delete_endpoint()"
   ]
  },
  {
   "cell_type": "code",
   "execution_count": null,
   "id": "1a8c26ef-a1e2-47af-a621-309a594a80fd",
   "metadata": {},
   "outputs": [],
   "source": []
  }
 ],
 "metadata": {
  "availableInstances": [
   {
    "_defaultOrder": 0,
    "_isFastLaunch": true,
    "category": "General purpose",
    "gpuNum": 0,
    "hideHardwareSpecs": false,
    "memoryGiB": 4,
    "name": "ml.t3.medium",
    "vcpuNum": 2
   },
   {
    "_defaultOrder": 1,
    "_isFastLaunch": false,
    "category": "General purpose",
    "gpuNum": 0,
    "hideHardwareSpecs": false,
    "memoryGiB": 8,
    "name": "ml.t3.large",
    "vcpuNum": 2
   },
   {
    "_defaultOrder": 2,
    "_isFastLaunch": false,
    "category": "General purpose",
    "gpuNum": 0,
    "hideHardwareSpecs": false,
    "memoryGiB": 16,
    "name": "ml.t3.xlarge",
    "vcpuNum": 4
   },
   {
    "_defaultOrder": 3,
    "_isFastLaunch": false,
    "category": "General purpose",
    "gpuNum": 0,
    "hideHardwareSpecs": false,
    "memoryGiB": 32,
    "name": "ml.t3.2xlarge",
    "vcpuNum": 8
   },
   {
    "_defaultOrder": 4,
    "_isFastLaunch": true,
    "category": "General purpose",
    "gpuNum": 0,
    "hideHardwareSpecs": false,
    "memoryGiB": 8,
    "name": "ml.m5.large",
    "vcpuNum": 2
   },
   {
    "_defaultOrder": 5,
    "_isFastLaunch": false,
    "category": "General purpose",
    "gpuNum": 0,
    "hideHardwareSpecs": false,
    "memoryGiB": 16,
    "name": "ml.m5.xlarge",
    "vcpuNum": 4
   },
   {
    "_defaultOrder": 6,
    "_isFastLaunch": false,
    "category": "General purpose",
    "gpuNum": 0,
    "hideHardwareSpecs": false,
    "memoryGiB": 32,
    "name": "ml.m5.2xlarge",
    "vcpuNum": 8
   },
   {
    "_defaultOrder": 7,
    "_isFastLaunch": false,
    "category": "General purpose",
    "gpuNum": 0,
    "hideHardwareSpecs": false,
    "memoryGiB": 64,
    "name": "ml.m5.4xlarge",
    "vcpuNum": 16
   },
   {
    "_defaultOrder": 8,
    "_isFastLaunch": false,
    "category": "General purpose",
    "gpuNum": 0,
    "hideHardwareSpecs": false,
    "memoryGiB": 128,
    "name": "ml.m5.8xlarge",
    "vcpuNum": 32
   },
   {
    "_defaultOrder": 9,
    "_isFastLaunch": false,
    "category": "General purpose",
    "gpuNum": 0,
    "hideHardwareSpecs": false,
    "memoryGiB": 192,
    "name": "ml.m5.12xlarge",
    "vcpuNum": 48
   },
   {
    "_defaultOrder": 10,
    "_isFastLaunch": false,
    "category": "General purpose",
    "gpuNum": 0,
    "hideHardwareSpecs": false,
    "memoryGiB": 256,
    "name": "ml.m5.16xlarge",
    "vcpuNum": 64
   },
   {
    "_defaultOrder": 11,
    "_isFastLaunch": false,
    "category": "General purpose",
    "gpuNum": 0,
    "hideHardwareSpecs": false,
    "memoryGiB": 384,
    "name": "ml.m5.24xlarge",
    "vcpuNum": 96
   },
   {
    "_defaultOrder": 12,
    "_isFastLaunch": false,
    "category": "General purpose",
    "gpuNum": 0,
    "hideHardwareSpecs": false,
    "memoryGiB": 8,
    "name": "ml.m5d.large",
    "vcpuNum": 2
   },
   {
    "_defaultOrder": 13,
    "_isFastLaunch": false,
    "category": "General purpose",
    "gpuNum": 0,
    "hideHardwareSpecs": false,
    "memoryGiB": 16,
    "name": "ml.m5d.xlarge",
    "vcpuNum": 4
   },
   {
    "_defaultOrder": 14,
    "_isFastLaunch": false,
    "category": "General purpose",
    "gpuNum": 0,
    "hideHardwareSpecs": false,
    "memoryGiB": 32,
    "name": "ml.m5d.2xlarge",
    "vcpuNum": 8
   },
   {
    "_defaultOrder": 15,
    "_isFastLaunch": false,
    "category": "General purpose",
    "gpuNum": 0,
    "hideHardwareSpecs": false,
    "memoryGiB": 64,
    "name": "ml.m5d.4xlarge",
    "vcpuNum": 16
   },
   {
    "_defaultOrder": 16,
    "_isFastLaunch": false,
    "category": "General purpose",
    "gpuNum": 0,
    "hideHardwareSpecs": false,
    "memoryGiB": 128,
    "name": "ml.m5d.8xlarge",
    "vcpuNum": 32
   },
   {
    "_defaultOrder": 17,
    "_isFastLaunch": false,
    "category": "General purpose",
    "gpuNum": 0,
    "hideHardwareSpecs": false,
    "memoryGiB": 192,
    "name": "ml.m5d.12xlarge",
    "vcpuNum": 48
   },
   {
    "_defaultOrder": 18,
    "_isFastLaunch": false,
    "category": "General purpose",
    "gpuNum": 0,
    "hideHardwareSpecs": false,
    "memoryGiB": 256,
    "name": "ml.m5d.16xlarge",
    "vcpuNum": 64
   },
   {
    "_defaultOrder": 19,
    "_isFastLaunch": false,
    "category": "General purpose",
    "gpuNum": 0,
    "hideHardwareSpecs": false,
    "memoryGiB": 384,
    "name": "ml.m5d.24xlarge",
    "vcpuNum": 96
   },
   {
    "_defaultOrder": 20,
    "_isFastLaunch": false,
    "category": "General purpose",
    "gpuNum": 0,
    "hideHardwareSpecs": true,
    "memoryGiB": 0,
    "name": "ml.geospatial.interactive",
    "supportedImageNames": [
     "sagemaker-geospatial-v1-0"
    ],
    "vcpuNum": 0
   },
   {
    "_defaultOrder": 21,
    "_isFastLaunch": true,
    "category": "Compute optimized",
    "gpuNum": 0,
    "hideHardwareSpecs": false,
    "memoryGiB": 4,
    "name": "ml.c5.large",
    "vcpuNum": 2
   },
   {
    "_defaultOrder": 22,
    "_isFastLaunch": false,
    "category": "Compute optimized",
    "gpuNum": 0,
    "hideHardwareSpecs": false,
    "memoryGiB": 8,
    "name": "ml.c5.xlarge",
    "vcpuNum": 4
   },
   {
    "_defaultOrder": 23,
    "_isFastLaunch": false,
    "category": "Compute optimized",
    "gpuNum": 0,
    "hideHardwareSpecs": false,
    "memoryGiB": 16,
    "name": "ml.c5.2xlarge",
    "vcpuNum": 8
   },
   {
    "_defaultOrder": 24,
    "_isFastLaunch": false,
    "category": "Compute optimized",
    "gpuNum": 0,
    "hideHardwareSpecs": false,
    "memoryGiB": 32,
    "name": "ml.c5.4xlarge",
    "vcpuNum": 16
   },
   {
    "_defaultOrder": 25,
    "_isFastLaunch": false,
    "category": "Compute optimized",
    "gpuNum": 0,
    "hideHardwareSpecs": false,
    "memoryGiB": 72,
    "name": "ml.c5.9xlarge",
    "vcpuNum": 36
   },
   {
    "_defaultOrder": 26,
    "_isFastLaunch": false,
    "category": "Compute optimized",
    "gpuNum": 0,
    "hideHardwareSpecs": false,
    "memoryGiB": 96,
    "name": "ml.c5.12xlarge",
    "vcpuNum": 48
   },
   {
    "_defaultOrder": 27,
    "_isFastLaunch": false,
    "category": "Compute optimized",
    "gpuNum": 0,
    "hideHardwareSpecs": false,
    "memoryGiB": 144,
    "name": "ml.c5.18xlarge",
    "vcpuNum": 72
   },
   {
    "_defaultOrder": 28,
    "_isFastLaunch": false,
    "category": "Compute optimized",
    "gpuNum": 0,
    "hideHardwareSpecs": false,
    "memoryGiB": 192,
    "name": "ml.c5.24xlarge",
    "vcpuNum": 96
   },
   {
    "_defaultOrder": 29,
    "_isFastLaunch": true,
    "category": "Accelerated computing",
    "gpuNum": 1,
    "hideHardwareSpecs": false,
    "memoryGiB": 16,
    "name": "ml.g4dn.xlarge",
    "vcpuNum": 4
   },
   {
    "_defaultOrder": 30,
    "_isFastLaunch": false,
    "category": "Accelerated computing",
    "gpuNum": 1,
    "hideHardwareSpecs": false,
    "memoryGiB": 32,
    "name": "ml.g4dn.2xlarge",
    "vcpuNum": 8
   },
   {
    "_defaultOrder": 31,
    "_isFastLaunch": false,
    "category": "Accelerated computing",
    "gpuNum": 1,
    "hideHardwareSpecs": false,
    "memoryGiB": 64,
    "name": "ml.g4dn.4xlarge",
    "vcpuNum": 16
   },
   {
    "_defaultOrder": 32,
    "_isFastLaunch": false,
    "category": "Accelerated computing",
    "gpuNum": 1,
    "hideHardwareSpecs": false,
    "memoryGiB": 128,
    "name": "ml.g4dn.8xlarge",
    "vcpuNum": 32
   },
   {
    "_defaultOrder": 33,
    "_isFastLaunch": false,
    "category": "Accelerated computing",
    "gpuNum": 4,
    "hideHardwareSpecs": false,
    "memoryGiB": 192,
    "name": "ml.g4dn.12xlarge",
    "vcpuNum": 48
   },
   {
    "_defaultOrder": 34,
    "_isFastLaunch": false,
    "category": "Accelerated computing",
    "gpuNum": 1,
    "hideHardwareSpecs": false,
    "memoryGiB": 256,
    "name": "ml.g4dn.16xlarge",
    "vcpuNum": 64
   },
   {
    "_defaultOrder": 35,
    "_isFastLaunch": false,
    "category": "Accelerated computing",
    "gpuNum": 1,
    "hideHardwareSpecs": false,
    "memoryGiB": 61,
    "name": "ml.p3.2xlarge",
    "vcpuNum": 8
   },
   {
    "_defaultOrder": 36,
    "_isFastLaunch": false,
    "category": "Accelerated computing",
    "gpuNum": 4,
    "hideHardwareSpecs": false,
    "memoryGiB": 244,
    "name": "ml.p3.8xlarge",
    "vcpuNum": 32
   },
   {
    "_defaultOrder": 37,
    "_isFastLaunch": false,
    "category": "Accelerated computing",
    "gpuNum": 8,
    "hideHardwareSpecs": false,
    "memoryGiB": 488,
    "name": "ml.p3.16xlarge",
    "vcpuNum": 64
   },
   {
    "_defaultOrder": 38,
    "_isFastLaunch": false,
    "category": "Accelerated computing",
    "gpuNum": 8,
    "hideHardwareSpecs": false,
    "memoryGiB": 768,
    "name": "ml.p3dn.24xlarge",
    "vcpuNum": 96
   },
   {
    "_defaultOrder": 39,
    "_isFastLaunch": false,
    "category": "Memory Optimized",
    "gpuNum": 0,
    "hideHardwareSpecs": false,
    "memoryGiB": 16,
    "name": "ml.r5.large",
    "vcpuNum": 2
   },
   {
    "_defaultOrder": 40,
    "_isFastLaunch": false,
    "category": "Memory Optimized",
    "gpuNum": 0,
    "hideHardwareSpecs": false,
    "memoryGiB": 32,
    "name": "ml.r5.xlarge",
    "vcpuNum": 4
   },
   {
    "_defaultOrder": 41,
    "_isFastLaunch": false,
    "category": "Memory Optimized",
    "gpuNum": 0,
    "hideHardwareSpecs": false,
    "memoryGiB": 64,
    "name": "ml.r5.2xlarge",
    "vcpuNum": 8
   },
   {
    "_defaultOrder": 42,
    "_isFastLaunch": false,
    "category": "Memory Optimized",
    "gpuNum": 0,
    "hideHardwareSpecs": false,
    "memoryGiB": 128,
    "name": "ml.r5.4xlarge",
    "vcpuNum": 16
   },
   {
    "_defaultOrder": 43,
    "_isFastLaunch": false,
    "category": "Memory Optimized",
    "gpuNum": 0,
    "hideHardwareSpecs": false,
    "memoryGiB": 256,
    "name": "ml.r5.8xlarge",
    "vcpuNum": 32
   },
   {
    "_defaultOrder": 44,
    "_isFastLaunch": false,
    "category": "Memory Optimized",
    "gpuNum": 0,
    "hideHardwareSpecs": false,
    "memoryGiB": 384,
    "name": "ml.r5.12xlarge",
    "vcpuNum": 48
   },
   {
    "_defaultOrder": 45,
    "_isFastLaunch": false,
    "category": "Memory Optimized",
    "gpuNum": 0,
    "hideHardwareSpecs": false,
    "memoryGiB": 512,
    "name": "ml.r5.16xlarge",
    "vcpuNum": 64
   },
   {
    "_defaultOrder": 46,
    "_isFastLaunch": false,
    "category": "Memory Optimized",
    "gpuNum": 0,
    "hideHardwareSpecs": false,
    "memoryGiB": 768,
    "name": "ml.r5.24xlarge",
    "vcpuNum": 96
   },
   {
    "_defaultOrder": 47,
    "_isFastLaunch": false,
    "category": "Accelerated computing",
    "gpuNum": 1,
    "hideHardwareSpecs": false,
    "memoryGiB": 16,
    "name": "ml.g5.xlarge",
    "vcpuNum": 4
   },
   {
    "_defaultOrder": 48,
    "_isFastLaunch": false,
    "category": "Accelerated computing",
    "gpuNum": 1,
    "hideHardwareSpecs": false,
    "memoryGiB": 32,
    "name": "ml.g5.2xlarge",
    "vcpuNum": 8
   },
   {
    "_defaultOrder": 49,
    "_isFastLaunch": false,
    "category": "Accelerated computing",
    "gpuNum": 1,
    "hideHardwareSpecs": false,
    "memoryGiB": 64,
    "name": "ml.g5.4xlarge",
    "vcpuNum": 16
   },
   {
    "_defaultOrder": 50,
    "_isFastLaunch": false,
    "category": "Accelerated computing",
    "gpuNum": 1,
    "hideHardwareSpecs": false,
    "memoryGiB": 128,
    "name": "ml.g5.8xlarge",
    "vcpuNum": 32
   },
   {
    "_defaultOrder": 51,
    "_isFastLaunch": false,
    "category": "Accelerated computing",
    "gpuNum": 1,
    "hideHardwareSpecs": false,
    "memoryGiB": 256,
    "name": "ml.g5.16xlarge",
    "vcpuNum": 64
   },
   {
    "_defaultOrder": 52,
    "_isFastLaunch": false,
    "category": "Accelerated computing",
    "gpuNum": 4,
    "hideHardwareSpecs": false,
    "memoryGiB": 192,
    "name": "ml.g5.12xlarge",
    "vcpuNum": 48
   },
   {
    "_defaultOrder": 53,
    "_isFastLaunch": false,
    "category": "Accelerated computing",
    "gpuNum": 4,
    "hideHardwareSpecs": false,
    "memoryGiB": 384,
    "name": "ml.g5.24xlarge",
    "vcpuNum": 96
   },
   {
    "_defaultOrder": 54,
    "_isFastLaunch": false,
    "category": "Accelerated computing",
    "gpuNum": 8,
    "hideHardwareSpecs": false,
    "memoryGiB": 768,
    "name": "ml.g5.48xlarge",
    "vcpuNum": 192
   },
   {
    "_defaultOrder": 55,
    "_isFastLaunch": false,
    "category": "Accelerated computing",
    "gpuNum": 8,
    "hideHardwareSpecs": false,
    "memoryGiB": 1152,
    "name": "ml.p4d.24xlarge",
    "vcpuNum": 96
   },
   {
    "_defaultOrder": 56,
    "_isFastLaunch": false,
    "category": "Accelerated computing",
    "gpuNum": 8,
    "hideHardwareSpecs": false,
    "memoryGiB": 1152,
    "name": "ml.p4de.24xlarge",
    "vcpuNum": 96
   }
  ],
  "instance_type": "ml.t3.medium",
  "kernelspec": {
   "display_name": "conda_pytorch_p310",
   "language": "python",
   "name": "conda_pytorch_p310"
  },
  "language_info": {
   "codemirror_mode": {
    "name": "ipython",
    "version": 3
   },
   "file_extension": ".py",
   "mimetype": "text/x-python",
   "name": "python",
   "nbconvert_exporter": "python",
   "pygments_lexer": "ipython3",
   "version": "3.10.13"
  }
 },
 "nbformat": 4,
 "nbformat_minor": 5
}
